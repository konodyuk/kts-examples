{
 "cells": [
  {
   "cell_type": "markdown",
   "metadata": {},
   "source": [
    "# `kts` Workflow\n",
    "## Stacking \n",
    "You can stack models in your `Modeling.ipynb` notebook, but I decided to show it in a separate one."
   ]
  },
  {
   "cell_type": "code",
   "execution_count": 1,
   "metadata": {},
   "outputs": [
    {
     "name": "stdout",
     "output_type": "stream",
     "text": [
      "Populating the interactive namespace from numpy and matplotlib\n"
     ]
    }
   ],
   "source": [
    "%pylab inline\n",
    "import pandas as pd\n",
    "import kts\n",
    "from kts import *"
   ]
  },
  {
   "cell_type": "markdown",
   "metadata": {},
   "source": [
    "## Data Loading"
   ]
  },
  {
   "cell_type": "code",
   "execution_count": 2,
   "metadata": {},
   "outputs": [
    {
     "data": {
      "text/plain": [
       "['train', 'test']"
      ]
     },
     "execution_count": 2,
     "metadata": {},
     "output_type": "execute_result"
    },
    {
     "data": {
      "text/plain": [
       "[family_size, family_size_encode, encode_age_and_sex, select_numeric]"
      ]
     },
     "execution_count": 2,
     "metadata": {},
     "output_type": "execute_result"
    }
   ],
   "source": [
    "kts.ls()\n",
    "features\n",
    "features.define_in_scope(globals())"
   ]
  },
  {
   "cell_type": "code",
   "execution_count": 3,
   "metadata": {},
   "outputs": [
    {
     "name": "stdout",
     "output_type": "stream",
     "text": [
      "CPU times: user 13.8 ms, sys: 4.54 ms, total: 18.4 ms\n",
      "Wall time: 25.2 ms\n"
     ]
    }
   ],
   "source": [
    "%%time\n",
    "train = kts.load('train')\n",
    "test = kts.load('test')"
   ]
  },
  {
   "cell_type": "markdown",
   "metadata": {},
   "source": [
    "## Stacking Section"
   ]
  },
  {
   "cell_type": "code",
   "execution_count": 4,
   "metadata": {},
   "outputs": [
    {
     "data": {
      "text/html": [
       "<style  type=\"text/css\" >\n",
       "</style>  \n",
       "<table id=\"T_5e5f7df4_91e9_11e9_9d1f_784f439116d6\" > \n",
       "<thead>    <tr> \n",
       "        <th class=\"blank level0\" ></th> \n",
       "        <th class=\"col_heading level0 col0\" >Score</th> \n",
       "        <th class=\"col_heading level0 col1\" >std</th> \n",
       "        <th class=\"col_heading level0 col2\" >Model</th> \n",
       "        <th class=\"col_heading level0 col3\" >FS</th> \n",
       "        <th class=\"col_heading level0 col4\" >Description</th> \n",
       "        <th class=\"col_heading level0 col5\" >FS description</th> \n",
       "        <th class=\"col_heading level0 col6\" >Model source</th> \n",
       "        <th class=\"col_heading level0 col7\" >FS source</th> \n",
       "        <th class=\"col_heading level0 col8\" >Splitter</th> \n",
       "    </tr>    <tr> \n",
       "        <th class=\"index_name level0\" >ID</th> \n",
       "        <th class=\"blank\" ></th> \n",
       "        <th class=\"blank\" ></th> \n",
       "        <th class=\"blank\" ></th> \n",
       "        <th class=\"blank\" ></th> \n",
       "        <th class=\"blank\" ></th> \n",
       "        <th class=\"blank\" ></th> \n",
       "        <th class=\"blank\" ></th> \n",
       "        <th class=\"blank\" ></th> \n",
       "        <th class=\"blank\" ></th> \n",
       "    </tr></thead> \n",
       "<tbody>    <tr> \n",
       "        <th id=\"T_5e5f7df4_91e9_11e9_9d1f_784f439116d6level0_row0\" class=\"row_heading level0 row0\" >6F5CC3</th> \n",
       "        <td id=\"T_5e5f7df4_91e9_11e9_9d1f_784f439116d6row0_col0\" class=\"data row0 col0\" >0.875949</td> \n",
       "        <td id=\"T_5e5f7df4_91e9_11e9_9d1f_784f439116d6row0_col1\" class=\"data row0 col1\" >0.0204519</td> \n",
       "        <td id=\"T_5e5f7df4_91e9_11e9_9d1f_784f439116d6row0_col2\" class=\"data row0 col2\" >cb_default</td> \n",
       "        <td id=\"T_5e5f7df4_91e9_11e9_9d1f_784f439116d6row0_col3\" class=\"data row0 col3\" >fs_4</td> \n",
       "        <td id=\"T_5e5f7df4_91e9_11e9_9d1f_784f439116d6row0_col4\" class=\"data row0 col4\" >same catboost, numeric + family_sz + age + sex + f_sz encoded</td> \n",
       "        <td id=\"T_5e5f7df4_91e9_11e9_9d1f_784f439116d6row0_col5\" class=\"data row0 col5\" >numeric and family size, (age, sex, family_sz) encoded</td> \n",
       "        <td id=\"T_5e5f7df4_91e9_11e9_9d1f_784f439116d6row0_col6\" class=\"data row0 col6\" >CatBoostClassifier(loss_function='Logloss')</td> \n",
       "        <td id=\"T_5e5f7df4_91e9_11e9_9d1f_784f439116d6row0_col7\" class=\"data row0 col7\" >FeatureSet(fc_before=stl.concat([select_numeric, family_size]),\n",
       "           fc_after=stl.concat([encode_age_and_sex, family_size_encode]),\n",
       "           target_column='Survived', group_column=None)</td> \n",
       "        <td id=\"T_5e5f7df4_91e9_11e9_9d1f_784f439116d6row0_col8\" class=\"data row0 col8\" >StratifiedKFold(n_splits=5, random_state=None, shuffle=False)</td> \n",
       "    </tr>    <tr> \n",
       "        <th id=\"T_5e5f7df4_91e9_11e9_9d1f_784f439116d6level0_row1\" class=\"row_heading level0 row1\" >686777</th> \n",
       "        <td id=\"T_5e5f7df4_91e9_11e9_9d1f_784f439116d6row1_col0\" class=\"data row1 col0\" >0.874757</td> \n",
       "        <td id=\"T_5e5f7df4_91e9_11e9_9d1f_784f439116d6row1_col1\" class=\"data row1 col1\" >0.0216935</td> \n",
       "        <td id=\"T_5e5f7df4_91e9_11e9_9d1f_784f439116d6row1_col2\" class=\"data row1 col2\" >cb_default</td> \n",
       "        <td id=\"T_5e5f7df4_91e9_11e9_9d1f_784f439116d6row1_col3\" class=\"data row1 col3\" >fs_4_bltn_20</td> \n",
       "        <td id=\"T_5e5f7df4_91e9_11e9_9d1f_784f439116d6row1_col4\" class=\"data row1 col4\" >same catboost, (numeric + family_sz + age + sex + f_sz encoded) select 20 best</td> \n",
       "        <td id=\"T_5e5f7df4_91e9_11e9_9d1f_784f439116d6row1_col5\" class=\"data row1 col5\" >Select 20 best features from fs_4 using BuiltinImportance</td> \n",
       "        <td id=\"T_5e5f7df4_91e9_11e9_9d1f_784f439116d6row1_col6\" class=\"data row1 col6\" >CatBoostClassifier(loss_function='Logloss')</td> \n",
       "        <td id=\"T_5e5f7df4_91e9_11e9_9d1f_784f439116d6row1_col7\" class=\"data row1 col7\" >FeatureSet(fc_before=stl.concat([select_numeric, family_size]),\n",
       "           fc_after=stl.concat([encode_age_and_sex, family_size_encode]),\n",
       "           target_column='Survived', group_column=None).select(20, lb['6F5CC3'], BuiltinImportance())</td> \n",
       "        <td id=\"T_5e5f7df4_91e9_11e9_9d1f_784f439116d6row1_col8\" class=\"data row1 col8\" >StratifiedKFold(n_splits=5, random_state=None, shuffle=False)</td> \n",
       "    </tr>    <tr> \n",
       "        <th id=\"T_5e5f7df4_91e9_11e9_9d1f_784f439116d6level0_row2\" class=\"row_heading level0 row2\" >CD1636</th> \n",
       "        <td id=\"T_5e5f7df4_91e9_11e9_9d1f_784f439116d6row2_col0\" class=\"data row2 col0\" >0.872937</td> \n",
       "        <td id=\"T_5e5f7df4_91e9_11e9_9d1f_784f439116d6row2_col1\" class=\"data row2 col1\" >0.0254346</td> \n",
       "        <td id=\"T_5e5f7df4_91e9_11e9_9d1f_784f439116d6row2_col2\" class=\"data row2 col2\" >cb_default</td> \n",
       "        <td id=\"T_5e5f7df4_91e9_11e9_9d1f_784f439116d6row2_col3\" class=\"data row2 col3\" >fs_3</td> \n",
       "        <td id=\"T_5e5f7df4_91e9_11e9_9d1f_784f439116d6row2_col4\" class=\"data row2 col4\" >same catboost, numeric + family_sz + age + sex</td> \n",
       "        <td id=\"T_5e5f7df4_91e9_11e9_9d1f_784f439116d6row2_col5\" class=\"data row2 col5\" >numeric and family size, age and sex</td> \n",
       "        <td id=\"T_5e5f7df4_91e9_11e9_9d1f_784f439116d6row2_col6\" class=\"data row2 col6\" >CatBoostClassifier(loss_function='Logloss')</td> \n",
       "        <td id=\"T_5e5f7df4_91e9_11e9_9d1f_784f439116d6row2_col7\" class=\"data row2 col7\" >FeatureSet(fc_before=stl.concat([select_numeric, family_size]),\n",
       "           fc_after=stl.concat([encode_age_and_sex]),\n",
       "           target_column='Survived', group_column=None)</td> \n",
       "        <td id=\"T_5e5f7df4_91e9_11e9_9d1f_784f439116d6row2_col8\" class=\"data row2 col8\" >StratifiedKFold(n_splits=5, random_state=None, shuffle=False)</td> \n",
       "    </tr>    <tr> \n",
       "        <th id=\"T_5e5f7df4_91e9_11e9_9d1f_784f439116d6level0_row3\" class=\"row_heading level0 row3\" >38E933</th> \n",
       "        <td id=\"T_5e5f7df4_91e9_11e9_9d1f_784f439116d6row3_col0\" class=\"data row3 col0\" >0.773755</td> \n",
       "        <td id=\"T_5e5f7df4_91e9_11e9_9d1f_784f439116d6row3_col1\" class=\"data row3 col1\" >0.0443118</td> \n",
       "        <td id=\"T_5e5f7df4_91e9_11e9_9d1f_784f439116d6row3_col2\" class=\"data row3 col2\" >cb_default</td> \n",
       "        <td id=\"T_5e5f7df4_91e9_11e9_9d1f_784f439116d6row3_col3\" class=\"data row3 col3\" >fs_2</td> \n",
       "        <td id=\"T_5e5f7df4_91e9_11e9_9d1f_784f439116d6row3_col4\" class=\"data row3 col4\" >same catboost, numeric + family_sz</td> \n",
       "        <td id=\"T_5e5f7df4_91e9_11e9_9d1f_784f439116d6row3_col5\" class=\"data row3 col5\" >original numeric and family size</td> \n",
       "        <td id=\"T_5e5f7df4_91e9_11e9_9d1f_784f439116d6row3_col6\" class=\"data row3 col6\" >CatBoostClassifier(loss_function='Logloss')</td> \n",
       "        <td id=\"T_5e5f7df4_91e9_11e9_9d1f_784f439116d6row3_col7\" class=\"data row3 col7\" >FeatureSet(fc_before=stl.concat([select_numeric, family_size]),\n",
       "           fc_after=stl.empty_like,\n",
       "           target_column='Survived', group_column=None)</td> \n",
       "        <td id=\"T_5e5f7df4_91e9_11e9_9d1f_784f439116d6row3_col8\" class=\"data row3 col8\" >StratifiedKFold(n_splits=5, random_state=None, shuffle=False)</td> \n",
       "    </tr>    <tr> \n",
       "        <th id=\"T_5e5f7df4_91e9_11e9_9d1f_784f439116d6level0_row4\" class=\"row_heading level0 row4\" >B1C44F</th> \n",
       "        <td id=\"T_5e5f7df4_91e9_11e9_9d1f_784f439116d6row4_col0\" class=\"data row4 col0\" >0.750426</td> \n",
       "        <td id=\"T_5e5f7df4_91e9_11e9_9d1f_784f439116d6row4_col1\" class=\"data row4 col1\" >0.0642686</td> \n",
       "        <td id=\"T_5e5f7df4_91e9_11e9_9d1f_784f439116d6row4_col2\" class=\"data row4 col2\" >cb_default</td> \n",
       "        <td id=\"T_5e5f7df4_91e9_11e9_9d1f_784f439116d6row4_col3\" class=\"data row4 col3\" >fs_1</td> \n",
       "        <td id=\"T_5e5f7df4_91e9_11e9_9d1f_784f439116d6row4_col4\" class=\"data row4 col4\" >baseline catboost on numeric features</td> \n",
       "        <td id=\"T_5e5f7df4_91e9_11e9_9d1f_784f439116d6row4_col5\" class=\"data row4 col5\" >Baseline: original numeric features</td> \n",
       "        <td id=\"T_5e5f7df4_91e9_11e9_9d1f_784f439116d6row4_col6\" class=\"data row4 col6\" >CatBoostClassifier(loss_function='Logloss')</td> \n",
       "        <td id=\"T_5e5f7df4_91e9_11e9_9d1f_784f439116d6row4_col7\" class=\"data row4 col7\" >FeatureSet(fc_before=select_numeric,\n",
       "           fc_after=stl.empty_like,\n",
       "           target_column='Survived', group_column=None)</td> \n",
       "        <td id=\"T_5e5f7df4_91e9_11e9_9d1f_784f439116d6row4_col8\" class=\"data row4 col8\" >StratifiedKFold(n_splits=5, random_state=None, shuffle=False)</td> \n",
       "    </tr></tbody> \n",
       "</table> "
      ],
      "text/plain": [
       "<kts.validation.leaderboard.Leaderboard at 0x128403ac8>"
      ]
     },
     "execution_count": 4,
     "metadata": {},
     "output_type": "execute_result"
    }
   ],
   "source": [
    "lb"
   ]
  },
  {
   "cell_type": "markdown",
   "metadata": {},
   "source": [
    "Let's take 3 best models from the top of lb:"
   ]
  },
  {
   "cell_type": "code",
   "execution_count": 5,
   "metadata": {},
   "outputs": [
    {
     "data": {
      "text/plain": [
       "['6F5CC3', '686777', 'CD1636']"
      ]
     },
     "execution_count": 5,
     "metadata": {},
     "output_type": "execute_result"
    }
   ],
   "source": [
    "best_ids = list(lb.head(3).index)\n",
    "best_ids"
   ]
  },
  {
   "cell_type": "markdown",
   "metadata": {},
   "source": [
    "`kts.stack(ids_to_stack, inner_splitter)` produces a special Validator for stacking and a FeatureConstructor for stacking, which can be passed to FeatureSet."
   ]
  },
  {
   "cell_type": "code",
   "execution_count": 6,
   "metadata": {},
   "outputs": [
    {
     "data": {
      "text/plain": [
       "Validator(Refiner(inner_splitter=StratifiedKFold(n_splits=3, random_state=None, shuffle=False),\n",
       "    outer_splitter=StratifiedKFold(n_splits=5, random_state=None, shuffle=False)), roc_auc_score)"
      ]
     },
     "execution_count": 6,
     "metadata": {},
     "output_type": "execute_result"
    },
    {
     "data": {
      "text/plain": [
       "stl.stack(ids=['6F5CC3', '686777', 'CD1636'])"
      ]
     },
     "execution_count": 6,
     "metadata": {},
     "output_type": "execute_result"
    }
   ],
   "source": [
    "from sklearn.model_selection import StratifiedKFold\n",
    "\n",
    "val_stack, fc_stack = kts.stack(best_ids, inner_splitter=StratifiedKFold(3))\n",
    "val_stack\n",
    "fc_stack"
   ]
  },
  {
   "cell_type": "markdown",
   "metadata": {},
   "source": [
    "First let's blend them using LogisticRegression:"
   ]
  },
  {
   "cell_type": "code",
   "execution_count": 7,
   "metadata": {},
   "outputs": [],
   "source": [
    "fs_6 = FeatureSet(fc_stack,\n",
    "                  df_input=train,\n",
    "                  target_column='Survived',\n",
    "                  description='fs for blending of 3 best models'\n",
    "                 )"
   ]
  },
  {
   "cell_type": "code",
   "execution_count": 8,
   "metadata": {},
   "outputs": [
    {
     "data": {
      "text/plain": [
       "FeatureSet(fc_before=stl.stack(ids=['6F5CC3', '686777', 'CD1636']),\n",
       "           fc_after=stl.empty_like,\n",
       "           target_column='Survived', group_column=None)"
      ]
     },
     "execution_count": 8,
     "metadata": {},
     "output_type": "execute_result"
    }
   ],
   "source": [
    "fs_6"
   ]
  },
  {
   "cell_type": "code",
   "execution_count": 9,
   "metadata": {},
   "outputs": [
    {
     "data": {
      "text/html": [
       "<div>\n",
       "<style scoped>\n",
       "    .dataframe tbody tr th:only-of-type {\n",
       "        vertical-align: middle;\n",
       "    }\n",
       "\n",
       "    .dataframe tbody tr th {\n",
       "        vertical-align: top;\n",
       "    }\n",
       "\n",
       "    .dataframe thead th {\n",
       "        text-align: right;\n",
       "    }\n",
       "</style>\n",
       "<table border=\"1\" class=\"dataframe\">\n",
       "  <thead>\n",
       "    <tr style=\"text-align: right;\">\n",
       "      <th></th>\n",
       "      <th>6F5CC3</th>\n",
       "      <th>686777</th>\n",
       "      <th>CD1636</th>\n",
       "    </tr>\n",
       "    <tr>\n",
       "      <th>PassengerId</th>\n",
       "      <th></th>\n",
       "      <th></th>\n",
       "      <th></th>\n",
       "    </tr>\n",
       "  </thead>\n",
       "  <tbody>\n",
       "    <tr>\n",
       "      <th>1</th>\n",
       "      <td>0.106602</td>\n",
       "      <td>0.072579</td>\n",
       "      <td>0.075637</td>\n",
       "    </tr>\n",
       "    <tr>\n",
       "      <th>2</th>\n",
       "      <td>0.974403</td>\n",
       "      <td>0.976034</td>\n",
       "      <td>0.974329</td>\n",
       "    </tr>\n",
       "    <tr>\n",
       "      <th>3</th>\n",
       "      <td>0.580968</td>\n",
       "      <td>0.618617</td>\n",
       "      <td>0.585384</td>\n",
       "    </tr>\n",
       "    <tr>\n",
       "      <th>4</th>\n",
       "      <td>0.975883</td>\n",
       "      <td>0.977233</td>\n",
       "      <td>0.977854</td>\n",
       "    </tr>\n",
       "    <tr>\n",
       "      <th>5</th>\n",
       "      <td>0.138547</td>\n",
       "      <td>0.168221</td>\n",
       "      <td>0.140078</td>\n",
       "    </tr>\n",
       "  </tbody>\n",
       "</table>\n",
       "</div>"
      ],
      "text/plain": [
       "               6F5CC3    686777    CD1636\n",
       "PassengerId                              \n",
       "1            0.106602  0.072579  0.075637\n",
       "2            0.974403  0.976034  0.974329\n",
       "3            0.580968  0.618617  0.585384\n",
       "4            0.975883  0.977233  0.977854\n",
       "5            0.138547  0.168221  0.140078"
      ]
     },
     "execution_count": 9,
     "metadata": {},
     "output_type": "execute_result"
    }
   ],
   "source": [
    "fs_6[:5]"
   ]
  },
  {
   "cell_type": "markdown",
   "metadata": {},
   "source": [
    "`fs_6` consisted of only predictions of 1st level models, but `fs_7` includes all the features from `fs_4`, which was best for single models. Let's see whether it will work:"
   ]
  },
  {
   "cell_type": "code",
   "execution_count": 12,
   "metadata": {},
   "outputs": [],
   "source": [
    "fs_7 = FeatureSet([select_numeric, family_size, fc_stack],\n",
    "                  [encode_age_and_sex, family_size_encode],\n",
    "                  df_input=train,\n",
    "                  target_column='Survived',\n",
    "                  description='fs_4 features + stacking of 3 best'\n",
    "                 )"
   ]
  },
  {
   "cell_type": "markdown",
   "metadata": {},
   "source": [
    "## Validation Section"
   ]
  },
  {
   "cell_type": "markdown",
   "metadata": {},
   "source": [
    "`Validator(sklearn_splitter, sklearn_metric)` is used to validate models on features."
   ]
  },
  {
   "cell_type": "code",
   "execution_count": 10,
   "metadata": {},
   "outputs": [
    {
     "data": {
      "text/html": [
       "ID: 24E01D<p> Score: 0.943435728218337<p>Total time: 00:00 <p>Validation of lr_293_x15-fs_6:"
      ],
      "text/plain": [
       "<IPython.core.display.HTML object>"
      ]
     },
     "metadata": {},
     "output_type": "display_data"
    },
    {
     "name": "stderr",
     "output_type": "stream",
     "text": [
      "/Library/Frameworks/Python.framework/Versions/3.6/lib/python3.6/site-packages/sklearn/linear_model/logistic.py:433: FutureWarning: Default solver will be changed to 'lbfgs' in 0.22. Specify a solver to silence this warning.\n",
      "  FutureWarning)\n",
      "/Library/Frameworks/Python.framework/Versions/3.6/lib/python3.6/site-packages/sklearn/linear_model/logistic.py:433: FutureWarning: Default solver will be changed to 'lbfgs' in 0.22. Specify a solver to silence this warning.\n",
      "  FutureWarning)\n",
      "/Library/Frameworks/Python.framework/Versions/3.6/lib/python3.6/site-packages/sklearn/linear_model/logistic.py:433: FutureWarning: Default solver will be changed to 'lbfgs' in 0.22. Specify a solver to silence this warning.\n",
      "  FutureWarning)\n",
      "/Library/Frameworks/Python.framework/Versions/3.6/lib/python3.6/site-packages/sklearn/linear_model/logistic.py:433: FutureWarning: Default solver will be changed to 'lbfgs' in 0.22. Specify a solver to silence this warning.\n",
      "  FutureWarning)\n",
      "/Library/Frameworks/Python.framework/Versions/3.6/lib/python3.6/site-packages/sklearn/linear_model/logistic.py:433: FutureWarning: Default solver will be changed to 'lbfgs' in 0.22. Specify a solver to silence this warning.\n",
      "  FutureWarning)\n",
      "/Library/Frameworks/Python.framework/Versions/3.6/lib/python3.6/site-packages/sklearn/linear_model/logistic.py:433: FutureWarning: Default solver will be changed to 'lbfgs' in 0.22. Specify a solver to silence this warning.\n",
      "  FutureWarning)\n",
      "/Library/Frameworks/Python.framework/Versions/3.6/lib/python3.6/site-packages/sklearn/linear_model/logistic.py:433: FutureWarning: Default solver will be changed to 'lbfgs' in 0.22. Specify a solver to silence this warning.\n",
      "  FutureWarning)\n",
      "/Library/Frameworks/Python.framework/Versions/3.6/lib/python3.6/site-packages/sklearn/linear_model/logistic.py:433: FutureWarning: Default solver will be changed to 'lbfgs' in 0.22. Specify a solver to silence this warning.\n",
      "  FutureWarning)\n",
      "/Library/Frameworks/Python.framework/Versions/3.6/lib/python3.6/site-packages/sklearn/linear_model/logistic.py:433: FutureWarning: Default solver will be changed to 'lbfgs' in 0.22. Specify a solver to silence this warning.\n",
      "  FutureWarning)\n",
      "/Library/Frameworks/Python.framework/Versions/3.6/lib/python3.6/site-packages/sklearn/linear_model/logistic.py:433: FutureWarning: Default solver will be changed to 'lbfgs' in 0.22. Specify a solver to silence this warning.\n",
      "  FutureWarning)\n",
      "/Library/Frameworks/Python.framework/Versions/3.6/lib/python3.6/site-packages/sklearn/linear_model/logistic.py:433: FutureWarning: Default solver will be changed to 'lbfgs' in 0.22. Specify a solver to silence this warning.\n",
      "  FutureWarning)\n",
      "/Library/Frameworks/Python.framework/Versions/3.6/lib/python3.6/site-packages/sklearn/linear_model/logistic.py:433: FutureWarning: Default solver will be changed to 'lbfgs' in 0.22. Specify a solver to silence this warning.\n",
      "  FutureWarning)\n",
      "/Library/Frameworks/Python.framework/Versions/3.6/lib/python3.6/site-packages/sklearn/linear_model/logistic.py:433: FutureWarning: Default solver will be changed to 'lbfgs' in 0.22. Specify a solver to silence this warning.\n",
      "  FutureWarning)\n",
      "/Library/Frameworks/Python.framework/Versions/3.6/lib/python3.6/site-packages/sklearn/linear_model/logistic.py:433: FutureWarning: Default solver will be changed to 'lbfgs' in 0.22. Specify a solver to silence this warning.\n",
      "  FutureWarning)\n",
      "/Library/Frameworks/Python.framework/Versions/3.6/lib/python3.6/site-packages/sklearn/linear_model/logistic.py:433: FutureWarning: Default solver will be changed to 'lbfgs' in 0.22. Specify a solver to silence this warning.\n",
      "  FutureWarning)\n"
     ]
    },
    {
     "data": {
      "text/plain": [
       "0.943435728218337"
      ]
     },
     "execution_count": 10,
     "metadata": {},
     "output_type": "execute_result"
    }
   ],
   "source": [
    "lr = zoo.bc.LogisticRegression()\n",
    "val_stack.score(lr, fs_6, description='blending of 3 best models with LogReg')"
   ]
  },
  {
   "cell_type": "markdown",
   "metadata": {},
   "source": [
    "Wow, not bad for just blending! Let's stack another CatBoost over those three models."
   ]
  },
  {
   "cell_type": "code",
   "execution_count": 15,
   "metadata": {},
   "outputs": [
    {
     "data": {
      "text/html": [
       "ID: 82762B<p> Score: 0.947121330816983<p>Total time: 00:15 <p>Validation of cb_09c_x15-fs_7:"
      ],
      "text/plain": [
       "<IPython.core.display.HTML object>"
      ]
     },
     "metadata": {},
     "output_type": "display_data"
    },
    {
     "data": {
      "text/plain": [
       "0.947121330816983"
      ]
     },
     "execution_count": 15,
     "metadata": {},
     "output_type": "execute_result"
    }
   ],
   "source": [
    "cb_stack = zoo.bc.CatBoostClassifier(iterations=100)\n",
    "val_stack.score(cb_stack, fs_7, description='light catboost, fs_4 + stack(3 best)', verbose=False)"
   ]
  },
  {
   "cell_type": "markdown",
   "metadata": {},
   "source": [
    "Yes, it is slightly better. Here's our leaderboard by this moment:"
   ]
  },
  {
   "cell_type": "code",
   "execution_count": 16,
   "metadata": {},
   "outputs": [
    {
     "data": {
      "text/html": [
       "<style  type=\"text/css\" >\n",
       "</style>  \n",
       "<table id=\"T_6eaf2c08_91ea_11e9_ba87_784f439116d6\" > \n",
       "<thead>    <tr> \n",
       "        <th class=\"blank level0\" ></th> \n",
       "        <th class=\"col_heading level0 col0\" >Score</th> \n",
       "        <th class=\"col_heading level0 col1\" >std</th> \n",
       "        <th class=\"col_heading level0 col2\" >Model</th> \n",
       "        <th class=\"col_heading level0 col3\" >FS</th> \n",
       "        <th class=\"col_heading level0 col4\" >Description</th> \n",
       "        <th class=\"col_heading level0 col5\" >FS description</th> \n",
       "        <th class=\"col_heading level0 col6\" >Model source</th> \n",
       "        <th class=\"col_heading level0 col7\" >FS source</th> \n",
       "        <th class=\"col_heading level0 col8\" >Splitter</th> \n",
       "    </tr>    <tr> \n",
       "        <th class=\"index_name level0\" >ID</th> \n",
       "        <th class=\"blank\" ></th> \n",
       "        <th class=\"blank\" ></th> \n",
       "        <th class=\"blank\" ></th> \n",
       "        <th class=\"blank\" ></th> \n",
       "        <th class=\"blank\" ></th> \n",
       "        <th class=\"blank\" ></th> \n",
       "        <th class=\"blank\" ></th> \n",
       "        <th class=\"blank\" ></th> \n",
       "        <th class=\"blank\" ></th> \n",
       "    </tr></thead> \n",
       "<tbody>    <tr> \n",
       "        <th id=\"T_6eaf2c08_91ea_11e9_ba87_784f439116d6level0_row0\" class=\"row_heading level0 row0\" >82762B</th> \n",
       "        <td id=\"T_6eaf2c08_91ea_11e9_ba87_784f439116d6row0_col0\" class=\"data row0 col0\" >0.947121</td> \n",
       "        <td id=\"T_6eaf2c08_91ea_11e9_ba87_784f439116d6row0_col1\" class=\"data row0 col1\" >0.022932</td> \n",
       "        <td id=\"T_6eaf2c08_91ea_11e9_ba87_784f439116d6row0_col2\" class=\"data row0 col2\" >cb_09c</td> \n",
       "        <td id=\"T_6eaf2c08_91ea_11e9_ba87_784f439116d6row0_col3\" class=\"data row0 col3\" >fs_7</td> \n",
       "        <td id=\"T_6eaf2c08_91ea_11e9_ba87_784f439116d6row0_col4\" class=\"data row0 col4\" >light catboost, fs_4 + stack(3 best)</td> \n",
       "        <td id=\"T_6eaf2c08_91ea_11e9_ba87_784f439116d6row0_col5\" class=\"data row0 col5\" >fs_4 features + stacking of 3 best</td> \n",
       "        <td id=\"T_6eaf2c08_91ea_11e9_ba87_784f439116d6row0_col6\" class=\"data row0 col6\" >CatBoostClassifier(loss_function='Logloss', iterations=100)</td> \n",
       "        <td id=\"T_6eaf2c08_91ea_11e9_ba87_784f439116d6row0_col7\" class=\"data row0 col7\" >FeatureSet(fc_before=stl.concat([select_numeric, family_size, stl.stack(ids=['6F5CC3', '686777', 'CD1636'])]),\n",
       "           fc_after=stl.concat([encode_age_and_sex, family_size_encode]),\n",
       "           target_column='Survived', group_column=None)</td> \n",
       "        <td id=\"T_6eaf2c08_91ea_11e9_ba87_784f439116d6row0_col8\" class=\"data row0 col8\" >Refiner(inner_splitter=StratifiedKFold(n_splits=3, random_state=None, shuffle=False),\n",
       "    outer_splitter=StratifiedKFold(n_splits=5, random_state=None, shuffle=False))</td> \n",
       "    </tr>    <tr> \n",
       "        <th id=\"T_6eaf2c08_91ea_11e9_ba87_784f439116d6level0_row1\" class=\"row_heading level0 row1\" >24E01D</th> \n",
       "        <td id=\"T_6eaf2c08_91ea_11e9_ba87_784f439116d6row1_col0\" class=\"data row1 col0\" >0.943436</td> \n",
       "        <td id=\"T_6eaf2c08_91ea_11e9_ba87_784f439116d6row1_col1\" class=\"data row1 col1\" >0.0276431</td> \n",
       "        <td id=\"T_6eaf2c08_91ea_11e9_ba87_784f439116d6row1_col2\" class=\"data row1 col2\" >lr_293</td> \n",
       "        <td id=\"T_6eaf2c08_91ea_11e9_ba87_784f439116d6row1_col3\" class=\"data row1 col3\" >fs_6</td> \n",
       "        <td id=\"T_6eaf2c08_91ea_11e9_ba87_784f439116d6row1_col4\" class=\"data row1 col4\" >blending of 3 best models with LogReg</td> \n",
       "        <td id=\"T_6eaf2c08_91ea_11e9_ba87_784f439116d6row1_col5\" class=\"data row1 col5\" >fs for blending of 3 best models</td> \n",
       "        <td id=\"T_6eaf2c08_91ea_11e9_ba87_784f439116d6row1_col6\" class=\"data row1 col6\" >LogisticRegression(C=1.0, class_weight=None, dual=False, fit_intercept=True, intercept_scaling=1, max_iter=100, multi_class='warn', n_jobs=None, penalty='l2', random_state=None, solver='warn', tol=0.0001, verbose=0, warm_start=False)</td> \n",
       "        <td id=\"T_6eaf2c08_91ea_11e9_ba87_784f439116d6row1_col7\" class=\"data row1 col7\" >FeatureSet(fc_before=stl.stack(ids=['6F5CC3', '686777', 'CD1636']),\n",
       "           fc_after=stl.empty_like,\n",
       "           target_column='Survived', group_column=None)</td> \n",
       "        <td id=\"T_6eaf2c08_91ea_11e9_ba87_784f439116d6row1_col8\" class=\"data row1 col8\" >Refiner(inner_splitter=StratifiedKFold(n_splits=3, random_state=None, shuffle=False),\n",
       "    outer_splitter=StratifiedKFold(n_splits=5, random_state=None, shuffle=False))</td> \n",
       "    </tr>    <tr> \n",
       "        <th id=\"T_6eaf2c08_91ea_11e9_ba87_784f439116d6level0_row2\" class=\"row_heading level0 row2\" >6F5CC3</th> \n",
       "        <td id=\"T_6eaf2c08_91ea_11e9_ba87_784f439116d6row2_col0\" class=\"data row2 col0\" >0.875949</td> \n",
       "        <td id=\"T_6eaf2c08_91ea_11e9_ba87_784f439116d6row2_col1\" class=\"data row2 col1\" >0.0204519</td> \n",
       "        <td id=\"T_6eaf2c08_91ea_11e9_ba87_784f439116d6row2_col2\" class=\"data row2 col2\" >cb_default</td> \n",
       "        <td id=\"T_6eaf2c08_91ea_11e9_ba87_784f439116d6row2_col3\" class=\"data row2 col3\" >fs_4</td> \n",
       "        <td id=\"T_6eaf2c08_91ea_11e9_ba87_784f439116d6row2_col4\" class=\"data row2 col4\" >same catboost, numeric + family_sz + age + sex + f_sz encoded</td> \n",
       "        <td id=\"T_6eaf2c08_91ea_11e9_ba87_784f439116d6row2_col5\" class=\"data row2 col5\" >numeric and family size, (age, sex, family_sz) encoded</td> \n",
       "        <td id=\"T_6eaf2c08_91ea_11e9_ba87_784f439116d6row2_col6\" class=\"data row2 col6\" >CatBoostClassifier(loss_function='Logloss')</td> \n",
       "        <td id=\"T_6eaf2c08_91ea_11e9_ba87_784f439116d6row2_col7\" class=\"data row2 col7\" >FeatureSet(fc_before=stl.concat([select_numeric, family_size]),\n",
       "           fc_after=stl.concat([encode_age_and_sex, family_size_encode]),\n",
       "           target_column='Survived', group_column=None)</td> \n",
       "        <td id=\"T_6eaf2c08_91ea_11e9_ba87_784f439116d6row2_col8\" class=\"data row2 col8\" >StratifiedKFold(n_splits=5, random_state=None, shuffle=False)</td> \n",
       "    </tr>    <tr> \n",
       "        <th id=\"T_6eaf2c08_91ea_11e9_ba87_784f439116d6level0_row3\" class=\"row_heading level0 row3\" >686777</th> \n",
       "        <td id=\"T_6eaf2c08_91ea_11e9_ba87_784f439116d6row3_col0\" class=\"data row3 col0\" >0.874757</td> \n",
       "        <td id=\"T_6eaf2c08_91ea_11e9_ba87_784f439116d6row3_col1\" class=\"data row3 col1\" >0.0216935</td> \n",
       "        <td id=\"T_6eaf2c08_91ea_11e9_ba87_784f439116d6row3_col2\" class=\"data row3 col2\" >cb_default</td> \n",
       "        <td id=\"T_6eaf2c08_91ea_11e9_ba87_784f439116d6row3_col3\" class=\"data row3 col3\" >fs_4_bltn_20</td> \n",
       "        <td id=\"T_6eaf2c08_91ea_11e9_ba87_784f439116d6row3_col4\" class=\"data row3 col4\" >same catboost, (numeric + family_sz + age + sex + f_sz encoded) select 20 best</td> \n",
       "        <td id=\"T_6eaf2c08_91ea_11e9_ba87_784f439116d6row3_col5\" class=\"data row3 col5\" >Select 20 best features from fs_4 using BuiltinImportance</td> \n",
       "        <td id=\"T_6eaf2c08_91ea_11e9_ba87_784f439116d6row3_col6\" class=\"data row3 col6\" >CatBoostClassifier(loss_function='Logloss')</td> \n",
       "        <td id=\"T_6eaf2c08_91ea_11e9_ba87_784f439116d6row3_col7\" class=\"data row3 col7\" >FeatureSet(fc_before=stl.concat([select_numeric, family_size]),\n",
       "           fc_after=stl.concat([encode_age_and_sex, family_size_encode]),\n",
       "           target_column='Survived', group_column=None).select(20, lb['6F5CC3'], BuiltinImportance())</td> \n",
       "        <td id=\"T_6eaf2c08_91ea_11e9_ba87_784f439116d6row3_col8\" class=\"data row3 col8\" >StratifiedKFold(n_splits=5, random_state=None, shuffle=False)</td> \n",
       "    </tr>    <tr> \n",
       "        <th id=\"T_6eaf2c08_91ea_11e9_ba87_784f439116d6level0_row4\" class=\"row_heading level0 row4\" >CD1636</th> \n",
       "        <td id=\"T_6eaf2c08_91ea_11e9_ba87_784f439116d6row4_col0\" class=\"data row4 col0\" >0.872937</td> \n",
       "        <td id=\"T_6eaf2c08_91ea_11e9_ba87_784f439116d6row4_col1\" class=\"data row4 col1\" >0.0254346</td> \n",
       "        <td id=\"T_6eaf2c08_91ea_11e9_ba87_784f439116d6row4_col2\" class=\"data row4 col2\" >cb_default</td> \n",
       "        <td id=\"T_6eaf2c08_91ea_11e9_ba87_784f439116d6row4_col3\" class=\"data row4 col3\" >fs_3</td> \n",
       "        <td id=\"T_6eaf2c08_91ea_11e9_ba87_784f439116d6row4_col4\" class=\"data row4 col4\" >same catboost, numeric + family_sz + age + sex</td> \n",
       "        <td id=\"T_6eaf2c08_91ea_11e9_ba87_784f439116d6row4_col5\" class=\"data row4 col5\" >numeric and family size, age and sex</td> \n",
       "        <td id=\"T_6eaf2c08_91ea_11e9_ba87_784f439116d6row4_col6\" class=\"data row4 col6\" >CatBoostClassifier(loss_function='Logloss')</td> \n",
       "        <td id=\"T_6eaf2c08_91ea_11e9_ba87_784f439116d6row4_col7\" class=\"data row4 col7\" >FeatureSet(fc_before=stl.concat([select_numeric, family_size]),\n",
       "           fc_after=stl.concat([encode_age_and_sex]),\n",
       "           target_column='Survived', group_column=None)</td> \n",
       "        <td id=\"T_6eaf2c08_91ea_11e9_ba87_784f439116d6row4_col8\" class=\"data row4 col8\" >StratifiedKFold(n_splits=5, random_state=None, shuffle=False)</td> \n",
       "    </tr>    <tr> \n",
       "        <th id=\"T_6eaf2c08_91ea_11e9_ba87_784f439116d6level0_row5\" class=\"row_heading level0 row5\" >38E933</th> \n",
       "        <td id=\"T_6eaf2c08_91ea_11e9_ba87_784f439116d6row5_col0\" class=\"data row5 col0\" >0.773755</td> \n",
       "        <td id=\"T_6eaf2c08_91ea_11e9_ba87_784f439116d6row5_col1\" class=\"data row5 col1\" >0.0443118</td> \n",
       "        <td id=\"T_6eaf2c08_91ea_11e9_ba87_784f439116d6row5_col2\" class=\"data row5 col2\" >cb_default</td> \n",
       "        <td id=\"T_6eaf2c08_91ea_11e9_ba87_784f439116d6row5_col3\" class=\"data row5 col3\" >fs_2</td> \n",
       "        <td id=\"T_6eaf2c08_91ea_11e9_ba87_784f439116d6row5_col4\" class=\"data row5 col4\" >same catboost, numeric + family_sz</td> \n",
       "        <td id=\"T_6eaf2c08_91ea_11e9_ba87_784f439116d6row5_col5\" class=\"data row5 col5\" >original numeric and family size</td> \n",
       "        <td id=\"T_6eaf2c08_91ea_11e9_ba87_784f439116d6row5_col6\" class=\"data row5 col6\" >CatBoostClassifier(loss_function='Logloss')</td> \n",
       "        <td id=\"T_6eaf2c08_91ea_11e9_ba87_784f439116d6row5_col7\" class=\"data row5 col7\" >FeatureSet(fc_before=stl.concat([select_numeric, family_size]),\n",
       "           fc_after=stl.empty_like,\n",
       "           target_column='Survived', group_column=None)</td> \n",
       "        <td id=\"T_6eaf2c08_91ea_11e9_ba87_784f439116d6row5_col8\" class=\"data row5 col8\" >StratifiedKFold(n_splits=5, random_state=None, shuffle=False)</td> \n",
       "    </tr>    <tr> \n",
       "        <th id=\"T_6eaf2c08_91ea_11e9_ba87_784f439116d6level0_row6\" class=\"row_heading level0 row6\" >B1C44F</th> \n",
       "        <td id=\"T_6eaf2c08_91ea_11e9_ba87_784f439116d6row6_col0\" class=\"data row6 col0\" >0.750426</td> \n",
       "        <td id=\"T_6eaf2c08_91ea_11e9_ba87_784f439116d6row6_col1\" class=\"data row6 col1\" >0.0642686</td> \n",
       "        <td id=\"T_6eaf2c08_91ea_11e9_ba87_784f439116d6row6_col2\" class=\"data row6 col2\" >cb_default</td> \n",
       "        <td id=\"T_6eaf2c08_91ea_11e9_ba87_784f439116d6row6_col3\" class=\"data row6 col3\" >fs_1</td> \n",
       "        <td id=\"T_6eaf2c08_91ea_11e9_ba87_784f439116d6row6_col4\" class=\"data row6 col4\" >baseline catboost on numeric features</td> \n",
       "        <td id=\"T_6eaf2c08_91ea_11e9_ba87_784f439116d6row6_col5\" class=\"data row6 col5\" >Baseline: original numeric features</td> \n",
       "        <td id=\"T_6eaf2c08_91ea_11e9_ba87_784f439116d6row6_col6\" class=\"data row6 col6\" >CatBoostClassifier(loss_function='Logloss')</td> \n",
       "        <td id=\"T_6eaf2c08_91ea_11e9_ba87_784f439116d6row6_col7\" class=\"data row6 col7\" >FeatureSet(fc_before=select_numeric,\n",
       "           fc_after=stl.empty_like,\n",
       "           target_column='Survived', group_column=None)</td> \n",
       "        <td id=\"T_6eaf2c08_91ea_11e9_ba87_784f439116d6row6_col8\" class=\"data row6 col8\" >StratifiedKFold(n_splits=5, random_state=None, shuffle=False)</td> \n",
       "    </tr></tbody> \n",
       "</table> "
      ],
      "text/plain": [
       "<kts.validation.leaderboard.Leaderboard at 0x128403ac8>"
      ]
     },
     "execution_count": 16,
     "metadata": {},
     "output_type": "execute_result"
    }
   ],
   "source": [
    "lb"
   ]
  },
  {
   "cell_type": "markdown",
   "metadata": {},
   "source": [
    "Here I end my basic introduction to `kts`. We created features in `kts` format, trained some models, examined feature importances, and even blended and stacked models.  \n",
    "I didn't cover some important topics like creating your own feature constructors which would behave differently for train and validation dataframes (as stl.target_encoding), defining your own metrics or creating features using more than one dataframe.  \n",
    "All this stuff is possible and will be done in more advanced tutorials, based on real competitions.  \n",
    "You can always contact [me](https://telegram.me/konodyuk) to clarify anything about `kts`, report a bug or suggest a competition to be used as a next example."
   ]
  },
  {
   "cell_type": "code",
   "execution_count": null,
   "metadata": {},
   "outputs": [],
   "source": []
  }
 ],
 "metadata": {
  "kernelspec": {
   "display_name": "Python 3",
   "language": "python",
   "name": "python3"
  },
  "language_info": {
   "codemirror_mode": {
    "name": "ipython",
    "version": 3
   },
   "file_extension": ".py",
   "mimetype": "text/x-python",
   "name": "python",
   "nbconvert_exporter": "python",
   "pygments_lexer": "ipython3",
   "version": "3.6.1"
  }
 },
 "nbformat": 4,
 "nbformat_minor": 2
}

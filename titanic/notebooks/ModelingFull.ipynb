{
 "cells": [
  {
   "cell_type": "markdown",
   "metadata": {},
   "source": [
    "# `kts` Workflow\n",
    "I conduct experiments in a separate notebook, like this one. The structure is very similar to one I use in real competitions.  \n",
    "*In Italic I give tips and tricks on project organization and best practices of kts usage.*"
   ]
  },
  {
   "cell_type": "code",
   "execution_count": 1,
   "metadata": {},
   "outputs": [
    {
     "name": "stdout",
     "output_type": "stream",
     "text": [
      "Populating the interactive namespace from numpy and matplotlib\n"
     ]
    }
   ],
   "source": [
    "%pylab inline\n",
    "import pandas as pd\n",
    "import kts\n",
    "from kts import *"
   ]
  },
  {
   "cell_type": "markdown",
   "metadata": {},
   "source": [
    "## Data Loading"
   ]
  },
  {
   "cell_type": "code",
   "execution_count": 2,
   "metadata": {},
   "outputs": [
    {
     "data": {
      "text/plain": [
       "['train', 'test']"
      ]
     },
     "execution_count": 2,
     "metadata": {},
     "output_type": "execute_result"
    },
    {
     "data": {
      "text/plain": [
       "[family_size, family_size_encode, encode_age_and_sex, select_numeric]"
      ]
     },
     "execution_count": 2,
     "metadata": {},
     "output_type": "execute_result"
    }
   ],
   "source": [
    "kts.ls()\n",
    "features\n",
    "features.define_in_scope(globals())"
   ]
  },
  {
   "cell_type": "code",
   "execution_count": 3,
   "metadata": {},
   "outputs": [
    {
     "name": "stdout",
     "output_type": "stream",
     "text": [
      "CPU times: user 11.8 ms, sys: 4.82 ms, total: 16.7 ms\n",
      "Wall time: 15 ms\n"
     ]
    }
   ],
   "source": [
    "%%time\n",
    "train = kts.load('train')\n",
    "test = kts.load('test')"
   ]
  },
  {
   "cell_type": "markdown",
   "metadata": {},
   "source": [
    "## FeatureSet Section\n",
    "*I usually save all history of FeatureSet creation at one place. My default naming is `fs_i` for easy tracking. Don't create different FeatureSets with one name, as this may prevent you from clear understanding which one was used to conduct a certain experiment.*"
   ]
  },
  {
   "cell_type": "code",
   "execution_count": 4,
   "metadata": {},
   "outputs": [],
   "source": [
    "fs_1 = FeatureSet(select_numeric,\n",
    "                  df_input=train,\n",
    "                  target_column='Survived',\n",
    "                  description='Baseline: original numeric features'\n",
    "                 )"
   ]
  },
  {
   "cell_type": "markdown",
   "metadata": {},
   "source": [
    "We can pass a list of FeatureConstructors to FeatureSet:"
   ]
  },
  {
   "cell_type": "code",
   "execution_count": 5,
   "metadata": {},
   "outputs": [],
   "source": [
    "fs_2 = FeatureSet([select_numeric, family_size],\n",
    "                  df_input=train,\n",
    "                  target_column='Survived',\n",
    "                  description='original numeric and family size'\n",
    "                 )"
   ]
  },
  {
   "cell_type": "markdown",
   "metadata": {},
   "source": [
    "Let's add some encoding features. As they use target_encoding inside, they should be computed after splitting:"
   ]
  },
  {
   "cell_type": "code",
   "execution_count": 9,
   "metadata": {},
   "outputs": [],
   "source": [
    "fs_3 = FeatureSet(fc_before=[select_numeric, family_size],\n",
    "                  fc_after=[encode_age_and_sex],\n",
    "                  df_input=train,\n",
    "                  target_column='Survived',\n",
    "                  description='numeric and family size, age and sex'\n",
    "                 )"
   ]
  },
  {
   "cell_type": "code",
   "execution_count": 12,
   "metadata": {},
   "outputs": [],
   "source": [
    "fs_4 = FeatureSet([select_numeric, family_size],\n",
    "                  [encode_age_and_sex, family_size_encode],\n",
    "                  df_input=train,\n",
    "                  target_column='Survived',\n",
    "                  description='numeric and family size, (age, sex, family_sz) encoded'\n",
    "                 )"
   ]
  },
  {
   "cell_type": "markdown",
   "metadata": {},
   "source": [
    "## Validation Section"
   ]
  },
  {
   "cell_type": "markdown",
   "metadata": {},
   "source": [
    "`Validator(sklearn_splitter, sklearn_metric)` is used to validate models on features."
   ]
  },
  {
   "cell_type": "code",
   "execution_count": 6,
   "metadata": {},
   "outputs": [],
   "source": [
    "from sklearn.model_selection import StratifiedKFold\n",
    "from sklearn.metrics import roc_auc_score\n",
    "\n",
    "skf = StratifiedKFold(5)\n",
    "val = Validator(skf, roc_auc_score)"
   ]
  },
  {
   "cell_type": "code",
   "execution_count": 13,
   "metadata": {},
   "outputs": [
    {
     "data": {
      "text/html": [
       "ID: 6F5CC3<p> Score: 0.8759488245746135<p>Total time: 00:52 <p>Validation of cb_default_x5-fs_4:"
      ],
      "text/plain": [
       "<IPython.core.display.HTML object>"
      ]
     },
     "metadata": {},
     "output_type": "display_data"
    },
    {
     "name": "stdout",
     "output_type": "stream",
     "text": [
      "Learning rate set to 0.075294\n",
      "0:\tlearn: 0.6504905\ttest: 0.6569977\tbest: 0.6569977 (0)\ttotal: 20.5ms\tremaining: 20.5s\n",
      "500:\tlearn: 0.2558226\ttest: 0.4316826\tbest: 0.4230113 (183)\ttotal: 4.92s\tremaining: 4.9s\n",
      "999:\tlearn: 0.2230854\ttest: 0.4394056\tbest: 0.4230113 (183)\ttotal: 8.78s\tremaining: 0us\n",
      "\n",
      "bestTest = 0.4230112894\n",
      "bestIteration = 183\n",
      "\n",
      "Shrink model to first 184 iterations.\n",
      "Learning rate set to 0.075294\n",
      "0:\tlearn: 0.6479261\ttest: 0.6492645\tbest: 0.6492645 (0)\ttotal: 6.97ms\tremaining: 6.96s\n",
      "500:\tlearn: 0.2209049\ttest: 0.5397536\tbest: 0.4514160 (24)\ttotal: 4.38s\tremaining: 4.36s\n",
      "999:\tlearn: 0.1819231\ttest: 0.5929084\tbest: 0.4514160 (24)\ttotal: 8.49s\tremaining: 0us\n",
      "\n",
      "bestTest = 0.4514160188\n",
      "bestIteration = 24\n",
      "\n",
      "Shrink model to first 25 iterations.\n",
      "Learning rate set to 0.075305\n",
      "0:\tlearn: 0.6585992\ttest: 0.6618420\tbest: 0.6618420 (0)\ttotal: 9.24ms\tremaining: 9.23s\n",
      "500:\tlearn: 0.2467157\ttest: 0.3651524\tbest: 0.3632445 (289)\ttotal: 4.39s\tremaining: 4.37s\n",
      "999:\tlearn: 0.2088484\ttest: 0.3816520\tbest: 0.3632445 (289)\ttotal: 8.6s\tremaining: 0us\n",
      "\n",
      "bestTest = 0.3632445452\n",
      "bestIteration = 289\n",
      "\n",
      "Shrink model to first 290 iterations.\n",
      "Learning rate set to 0.075305\n",
      "0:\tlearn: 0.6605803\ttest: 0.6668348\tbest: 0.6668348 (0)\ttotal: 7.04ms\tremaining: 7.04s\n",
      "500:\tlearn: 0.2257908\ttest: 0.4426863\tbest: 0.4109184 (183)\ttotal: 4.53s\tremaining: 4.51s\n",
      "999:\tlearn: 0.1840702\ttest: 0.4683536\tbest: 0.4109184 (183)\ttotal: 11.5s\tremaining: 0us\n",
      "\n",
      "bestTest = 0.4109184211\n",
      "bestIteration = 183\n",
      "\n",
      "Shrink model to first 184 iterations.\n",
      "Learning rate set to 0.075316\n",
      "0:\tlearn: 0.6619969\ttest: 0.6638496\tbest: 0.6638496 (0)\ttotal: 19.5ms\tremaining: 19.4s\n",
      "500:\tlearn: 0.2411984\ttest: 0.4105861\tbest: 0.3809084 (112)\ttotal: 6.88s\tremaining: 6.86s\n",
      "999:\tlearn: 0.1964208\ttest: 0.4290148\tbest: 0.3809084 (112)\ttotal: 11.8s\tremaining: 0us\n",
      "\n",
      "bestTest = 0.380908433\n",
      "bestIteration = 112\n",
      "\n",
      "Shrink model to first 113 iterations.\n"
     ]
    },
    {
     "data": {
      "text/plain": [
       "0.8759488245746135"
      ]
     },
     "execution_count": 13,
     "metadata": {},
     "output_type": "execute_result"
    }
   ],
   "source": [
    "# cb = zoo.bc.CatBoostClassifier()\n",
    "# val.score(cb, fs_2, description='same catboost, numeric + family_sz', verbose=500)\n",
    "# -> 38E933, 0.7737550526973671\n",
    "# cb = zoo.bc.CatBoostClassifier()\n",
    "# val.score(cb, fs_3, description='same catboost, numeric + family_sz + age + sex', verbose=500)\n",
    "# -> CD1636, 0.8729370169941276\n",
    "cb = zoo.bc.CatBoostClassifier()\n",
    "val.score(cb, fs_4, description='same catboost, numeric + family_sz + age + sex + f_sz encoded', verbose=500)"
   ]
  },
  {
   "cell_type": "code",
   "execution_count": 14,
   "metadata": {},
   "outputs": [
    {
     "data": {
      "text/html": [
       "<style  type=\"text/css\" >\n",
       "</style>  \n",
       "<table id=\"T_19a3b986_91e5_11e9_92a8_784f439116d6\" > \n",
       "<thead>    <tr> \n",
       "        <th class=\"blank level0\" ></th> \n",
       "        <th class=\"col_heading level0 col0\" >Score</th> \n",
       "        <th class=\"col_heading level0 col1\" >std</th> \n",
       "        <th class=\"col_heading level0 col2\" >Model</th> \n",
       "        <th class=\"col_heading level0 col3\" >FS</th> \n",
       "        <th class=\"col_heading level0 col4\" >Description</th> \n",
       "        <th class=\"col_heading level0 col5\" >FS description</th> \n",
       "        <th class=\"col_heading level0 col6\" >Model source</th> \n",
       "        <th class=\"col_heading level0 col7\" >FS source</th> \n",
       "        <th class=\"col_heading level0 col8\" >Splitter</th> \n",
       "    </tr>    <tr> \n",
       "        <th class=\"index_name level0\" >ID</th> \n",
       "        <th class=\"blank\" ></th> \n",
       "        <th class=\"blank\" ></th> \n",
       "        <th class=\"blank\" ></th> \n",
       "        <th class=\"blank\" ></th> \n",
       "        <th class=\"blank\" ></th> \n",
       "        <th class=\"blank\" ></th> \n",
       "        <th class=\"blank\" ></th> \n",
       "        <th class=\"blank\" ></th> \n",
       "        <th class=\"blank\" ></th> \n",
       "    </tr></thead> \n",
       "<tbody>    <tr> \n",
       "        <th id=\"T_19a3b986_91e5_11e9_92a8_784f439116d6level0_row0\" class=\"row_heading level0 row0\" >6F5CC3</th> \n",
       "        <td id=\"T_19a3b986_91e5_11e9_92a8_784f439116d6row0_col0\" class=\"data row0 col0\" >0.875949</td> \n",
       "        <td id=\"T_19a3b986_91e5_11e9_92a8_784f439116d6row0_col1\" class=\"data row0 col1\" >0.0204519</td> \n",
       "        <td id=\"T_19a3b986_91e5_11e9_92a8_784f439116d6row0_col2\" class=\"data row0 col2\" >cb_default</td> \n",
       "        <td id=\"T_19a3b986_91e5_11e9_92a8_784f439116d6row0_col3\" class=\"data row0 col3\" >fs_4</td> \n",
       "        <td id=\"T_19a3b986_91e5_11e9_92a8_784f439116d6row0_col4\" class=\"data row0 col4\" >same catboost, numeric + family_sz + age + sex + f_sz encoded</td> \n",
       "        <td id=\"T_19a3b986_91e5_11e9_92a8_784f439116d6row0_col5\" class=\"data row0 col5\" >numeric and family size, (age, sex, family_sz) encoded</td> \n",
       "        <td id=\"T_19a3b986_91e5_11e9_92a8_784f439116d6row0_col6\" class=\"data row0 col6\" >CatBoostClassifier(loss_function='Logloss')</td> \n",
       "        <td id=\"T_19a3b986_91e5_11e9_92a8_784f439116d6row0_col7\" class=\"data row0 col7\" >FeatureSet(fc_before=stl.concat([select_numeric, family_size]),\n",
       "           fc_after=stl.concat([encode_age_and_sex, family_size_encode]),\n",
       "           target_column='Survived', group_column=None)</td> \n",
       "        <td id=\"T_19a3b986_91e5_11e9_92a8_784f439116d6row0_col8\" class=\"data row0 col8\" >StratifiedKFold(n_splits=5, random_state=None, shuffle=False)</td> \n",
       "    </tr>    <tr> \n",
       "        <th id=\"T_19a3b986_91e5_11e9_92a8_784f439116d6level0_row1\" class=\"row_heading level0 row1\" >CD1636</th> \n",
       "        <td id=\"T_19a3b986_91e5_11e9_92a8_784f439116d6row1_col0\" class=\"data row1 col0\" >0.872937</td> \n",
       "        <td id=\"T_19a3b986_91e5_11e9_92a8_784f439116d6row1_col1\" class=\"data row1 col1\" >0.0254346</td> \n",
       "        <td id=\"T_19a3b986_91e5_11e9_92a8_784f439116d6row1_col2\" class=\"data row1 col2\" >cb_default</td> \n",
       "        <td id=\"T_19a3b986_91e5_11e9_92a8_784f439116d6row1_col3\" class=\"data row1 col3\" >fs_3</td> \n",
       "        <td id=\"T_19a3b986_91e5_11e9_92a8_784f439116d6row1_col4\" class=\"data row1 col4\" >same catboost, numeric + family_sz + age + sex</td> \n",
       "        <td id=\"T_19a3b986_91e5_11e9_92a8_784f439116d6row1_col5\" class=\"data row1 col5\" >numeric and family size, age and sex</td> \n",
       "        <td id=\"T_19a3b986_91e5_11e9_92a8_784f439116d6row1_col6\" class=\"data row1 col6\" >CatBoostClassifier(loss_function='Logloss')</td> \n",
       "        <td id=\"T_19a3b986_91e5_11e9_92a8_784f439116d6row1_col7\" class=\"data row1 col7\" >FeatureSet(fc_before=stl.concat([select_numeric, family_size]),\n",
       "           fc_after=stl.concat([encode_age_and_sex]),\n",
       "           target_column='Survived', group_column=None)</td> \n",
       "        <td id=\"T_19a3b986_91e5_11e9_92a8_784f439116d6row1_col8\" class=\"data row1 col8\" >StratifiedKFold(n_splits=5, random_state=None, shuffle=False)</td> \n",
       "    </tr>    <tr> \n",
       "        <th id=\"T_19a3b986_91e5_11e9_92a8_784f439116d6level0_row2\" class=\"row_heading level0 row2\" >38E933</th> \n",
       "        <td id=\"T_19a3b986_91e5_11e9_92a8_784f439116d6row2_col0\" class=\"data row2 col0\" >0.773755</td> \n",
       "        <td id=\"T_19a3b986_91e5_11e9_92a8_784f439116d6row2_col1\" class=\"data row2 col1\" >0.0443118</td> \n",
       "        <td id=\"T_19a3b986_91e5_11e9_92a8_784f439116d6row2_col2\" class=\"data row2 col2\" >cb_default</td> \n",
       "        <td id=\"T_19a3b986_91e5_11e9_92a8_784f439116d6row2_col3\" class=\"data row2 col3\" >fs_2</td> \n",
       "        <td id=\"T_19a3b986_91e5_11e9_92a8_784f439116d6row2_col4\" class=\"data row2 col4\" >same catboost, numeric + family_sz</td> \n",
       "        <td id=\"T_19a3b986_91e5_11e9_92a8_784f439116d6row2_col5\" class=\"data row2 col5\" >original numeric and family size</td> \n",
       "        <td id=\"T_19a3b986_91e5_11e9_92a8_784f439116d6row2_col6\" class=\"data row2 col6\" >CatBoostClassifier(loss_function='Logloss')</td> \n",
       "        <td id=\"T_19a3b986_91e5_11e9_92a8_784f439116d6row2_col7\" class=\"data row2 col7\" >FeatureSet(fc_before=stl.concat([select_numeric, family_size]),\n",
       "           fc_after=stl.empty_like,\n",
       "           target_column='Survived', group_column=None)</td> \n",
       "        <td id=\"T_19a3b986_91e5_11e9_92a8_784f439116d6row2_col8\" class=\"data row2 col8\" >StratifiedKFold(n_splits=5, random_state=None, shuffle=False)</td> \n",
       "    </tr>    <tr> \n",
       "        <th id=\"T_19a3b986_91e5_11e9_92a8_784f439116d6level0_row3\" class=\"row_heading level0 row3\" >B1C44F</th> \n",
       "        <td id=\"T_19a3b986_91e5_11e9_92a8_784f439116d6row3_col0\" class=\"data row3 col0\" >0.750426</td> \n",
       "        <td id=\"T_19a3b986_91e5_11e9_92a8_784f439116d6row3_col1\" class=\"data row3 col1\" >0.0642686</td> \n",
       "        <td id=\"T_19a3b986_91e5_11e9_92a8_784f439116d6row3_col2\" class=\"data row3 col2\" >cb_default</td> \n",
       "        <td id=\"T_19a3b986_91e5_11e9_92a8_784f439116d6row3_col3\" class=\"data row3 col3\" >fs_1</td> \n",
       "        <td id=\"T_19a3b986_91e5_11e9_92a8_784f439116d6row3_col4\" class=\"data row3 col4\" >baseline catboost on numeric features</td> \n",
       "        <td id=\"T_19a3b986_91e5_11e9_92a8_784f439116d6row3_col5\" class=\"data row3 col5\" >Baseline: original numeric features</td> \n",
       "        <td id=\"T_19a3b986_91e5_11e9_92a8_784f439116d6row3_col6\" class=\"data row3 col6\" >CatBoostClassifier(loss_function='Logloss')</td> \n",
       "        <td id=\"T_19a3b986_91e5_11e9_92a8_784f439116d6row3_col7\" class=\"data row3 col7\" >FeatureSet(fc_before=select_numeric,\n",
       "           fc_after=stl.empty_like,\n",
       "           target_column='Survived', group_column=None)</td> \n",
       "        <td id=\"T_19a3b986_91e5_11e9_92a8_784f439116d6row3_col8\" class=\"data row3 col8\" >StratifiedKFold(n_splits=5, random_state=None, shuffle=False)</td> \n",
       "    </tr></tbody> \n",
       "</table> "
      ],
      "text/plain": [
       "<kts.validation.leaderboard.Leaderboard at 0x128500898>"
      ]
     },
     "execution_count": 14,
     "metadata": {},
     "output_type": "execute_result"
    }
   ],
   "source": [
    "lb"
   ]
  },
  {
   "cell_type": "code",
   "execution_count": 26,
   "metadata": {},
   "outputs": [
    {
     "data": {
      "text/html": [
       "\n",
       "    <div>\n",
       "        <style>\n",
       "            /* Turns off some styling */\n",
       "            progress {\n",
       "                /* gets rid of default border in Firefox and Opera. */\n",
       "                border: none;\n",
       "                /* Needs to be in here for Safari polyfill so background images work as expected. */\n",
       "                background-size: auto;\n",
       "            }\n",
       "            .progress-bar-interrupted, .progress-bar-interrupted::-webkit-progress-bar {\n",
       "                background: #F44336;\n",
       "            }\n",
       "        </style>\n",
       "      <progress value='5' class='' max='5', style='width:300px; height:20px; vertical-align: middle;'></progress>\n",
       "      100.00% [5/5 00:00<00:00]\n",
       "    </div>\n",
       "    "
      ],
      "text/plain": [
       "<IPython.core.display.HTML object>"
      ]
     },
     "metadata": {},
     "output_type": "display_data"
    },
    {
     "name": "stderr",
     "output_type": "stream",
     "text": [
      "/Library/Frameworks/Python.framework/Versions/3.6/lib/python3.6/site-packages/pandas/core/frame.py:6211: FutureWarning: Sorting because non-concatenation axis is not aligned. A future version\n",
      "of pandas will change to not sort by default.\n",
      "\n",
      "To accept the future behavior, pass 'sort=False'.\n",
      "\n",
      "To retain the current behavior and silence the warning, pass 'sort=True'.\n",
      "\n",
      "  sort=sort)\n"
     ]
    },
    {
     "data": {
      "text/plain": [
       "<matplotlib.axes._subplots.AxesSubplot at 0x12af23438>"
      ]
     },
     "execution_count": 26,
     "metadata": {},
     "output_type": "execute_result"
    },
    {
     "data": {
      "image/png": "[encoded data removed]",
      "text/plain": [
       "<matplotlib.figure.Figure at 0x103701dd8>"
      ]
     },
     "metadata": {
      "image/png": {
       "height": 322,
       "width": 680
      }
     },
     "output_type": "display_data"
    }
   ],
   "source": [
    "lb['6F5CC3'].feature_importances(plot=1)"
   ]
  },
  {
   "cell_type": "markdown",
   "metadata": {},
   "source": [
    "Now we can select 20 best features from `fs_4` according to feature importances of experiment `6F5CC3`, which used `fs_4`:"
   ]
  },
  {
   "cell_type": "code",
   "execution_count": 21,
   "metadata": {},
   "outputs": [
    {
     "data": {
      "text/html": [
       "\n",
       "    <div>\n",
       "        <style>\n",
       "            /* Turns off some styling */\n",
       "            progress {\n",
       "                /* gets rid of default border in Firefox and Opera. */\n",
       "                border: none;\n",
       "                /* Needs to be in here for Safari polyfill so background images work as expected. */\n",
       "                background-size: auto;\n",
       "            }\n",
       "            .progress-bar-interrupted, .progress-bar-interrupted::-webkit-progress-bar {\n",
       "                background: #F44336;\n",
       "            }\n",
       "        </style>\n",
       "      <progress value='5' class='' max='5', style='width:300px; height:20px; vertical-align: middle;'></progress>\n",
       "      100.00% [5/5 00:00<00:00]\n",
       "    </div>\n",
       "    "
      ],
      "text/plain": [
       "<IPython.core.display.HTML object>"
      ]
     },
     "metadata": {},
     "output_type": "display_data"
    },
    {
     "name": "stderr",
     "output_type": "stream",
     "text": [
      "/Library/Frameworks/Python.framework/Versions/3.6/lib/python3.6/site-packages/pandas/core/frame.py:6211: FutureWarning: Sorting because non-concatenation axis is not aligned. A future version\n",
      "of pandas will change to not sort by default.\n",
      "\n",
      "To accept the future behavior, pass 'sort=False'.\n",
      "\n",
      "To retain the current behavior and silence the warning, pass 'sort=True'.\n",
      "\n",
      "  sort=sort)\n"
     ]
    }
   ],
   "source": [
    "fs_5 = fs_4.select(n_best=20, experiment=lb['6F5CC3'])"
   ]
  },
  {
   "cell_type": "code",
   "execution_count": 22,
   "metadata": {},
   "outputs": [
    {
     "data": {
      "text/html": [
       "ID: 686777<p> Score: 0.8747571576768648<p>Total time: 00:56 <p>Validation of cb_default_x5-fs_4_bltn_20:"
      ],
      "text/plain": [
       "<IPython.core.display.HTML object>"
      ]
     },
     "metadata": {},
     "output_type": "display_data"
    },
    {
     "name": "stdout",
     "output_type": "stream",
     "text": [
      "Learning rate set to 0.075294\n",
      "0:\tlearn: 0.6494992\ttest: 0.6574022\tbest: 0.6574022 (0)\ttotal: 23.6ms\tremaining: 23.6s\n",
      "500:\tlearn: 0.2669350\ttest: 0.4256309\tbest: 0.4196163 (330)\ttotal: 4.36s\tremaining: 4.35s\n",
      "999:\tlearn: 0.2273449\ttest: 0.4450072\tbest: 0.4196163 (330)\ttotal: 8.14s\tremaining: 0us\n",
      "\n",
      "bestTest = 0.4196163277\n",
      "bestIteration = 330\n",
      "\n",
      "Shrink model to first 331 iterations.\n",
      "Learning rate set to 0.075294\n",
      "0:\tlearn: 0.6470075\ttest: 0.6481424\tbest: 0.6481424 (0)\ttotal: 20.3ms\tremaining: 20.2s\n",
      "500:\tlearn: 0.2241055\ttest: 0.5535879\tbest: 0.4533870 (19)\ttotal: 4.91s\tremaining: 4.89s\n",
      "999:\tlearn: 0.1847317\ttest: 0.5937704\tbest: 0.4533870 (19)\ttotal: 13.9s\tremaining: 0us\n",
      "\n",
      "bestTest = 0.4533870024\n",
      "bestIteration = 19\n",
      "\n",
      "Shrink model to first 20 iterations.\n",
      "Learning rate set to 0.075305\n",
      "0:\tlearn: 0.6588206\ttest: 0.6595439\tbest: 0.6595439 (0)\ttotal: 16.3ms\tremaining: 16.2s\n",
      "500:\tlearn: 0.2503886\ttest: 0.3770480\tbest: 0.3747818 (303)\ttotal: 7.64s\tremaining: 7.61s\n",
      "999:\tlearn: 0.2035214\ttest: 0.3829269\tbest: 0.3746372 (850)\ttotal: 15.5s\tremaining: 0us\n",
      "\n",
      "bestTest = 0.374637215\n",
      "bestIteration = 850\n",
      "\n",
      "Shrink model to first 851 iterations.\n",
      "Learning rate set to 0.075305\n",
      "0:\tlearn: 0.6594146\ttest: 0.6650771\tbest: 0.6650771 (0)\ttotal: 21.8ms\tremaining: 21.8s\n",
      "500:\tlearn: 0.2283729\ttest: 0.4311988\tbest: 0.4168299 (204)\ttotal: 3.91s\tremaining: 3.89s\n",
      "999:\tlearn: 0.1794040\ttest: 0.4684679\tbest: 0.4168299 (204)\ttotal: 8.16s\tremaining: 0us\n",
      "\n",
      "bestTest = 0.4168298549\n",
      "bestIteration = 204\n",
      "\n",
      "Shrink model to first 205 iterations.\n",
      "Learning rate set to 0.075316\n",
      "0:\tlearn: 0.6644290\ttest: 0.6634221\tbest: 0.6634221 (0)\ttotal: 14.6ms\tremaining: 14.6s\n",
      "500:\tlearn: 0.2298478\ttest: 0.3955991\tbest: 0.3732165 (220)\ttotal: 4.15s\tremaining: 4.13s\n",
      "999:\tlearn: 0.1875764\ttest: 0.4134075\tbest: 0.3732165 (220)\ttotal: 7.91s\tremaining: 0us\n",
      "\n",
      "bestTest = 0.3732164583\n",
      "bestIteration = 220\n",
      "\n",
      "Shrink model to first 221 iterations.\n"
     ]
    },
    {
     "data": {
      "text/plain": [
       "0.8747571576768648"
      ]
     },
     "execution_count": 22,
     "metadata": {},
     "output_type": "execute_result"
    }
   ],
   "source": [
    "cb = zoo.bc.CatBoostClassifier()\n",
    "val.score(cb, fs_5, description='same catboost, (numeric + family_sz + age + sex + f_sz encoded) select 20 best', verbose=500)"
   ]
  },
  {
   "cell_type": "markdown",
   "metadata": {},
   "source": [
    "Became worse, but my goal was to show the syntax. Feature selection becomes more efficient as you produce more features."
   ]
  },
  {
   "cell_type": "markdown",
   "metadata": {},
   "source": [
    "We have already conducted several experiments and are ready to proceed to `Stacking.ipynb`."
   ]
  },
  {
   "cell_type": "code",
   "execution_count": null,
   "metadata": {},
   "outputs": [],
   "source": []
  }
 ],
 "metadata": {
  "kernelspec": {
   "display_name": "Python 3",
   "language": "python",
   "name": "python3"
  },
  "language_info": {
   "codemirror_mode": {
    "name": "ipython",
    "version": 3
   },
   "file_extension": ".py",
   "mimetype": "text/x-python",
   "name": "python",
   "nbconvert_exporter": "python",
   "pygments_lexer": "ipython3",
   "version": "3.6.1"
  }
 },
 "nbformat": 4,
 "nbformat_minor": 2
}

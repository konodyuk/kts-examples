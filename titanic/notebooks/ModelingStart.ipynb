{
 "cells": [
  {
   "cell_type": "markdown",
   "metadata": {},
   "source": [
    "# `kts` Workflow\n",
    "I conduct experiments in a separate notebook, like this one. The structure is very similar to one I use in real competitions.  \n",
    "*In Italic I give tips and tricks on project organization and best practices of kts usage.*"
   ]
  },
  {
   "cell_type": "code",
   "execution_count": 1,
   "metadata": {},
   "outputs": [
    {
     "name": "stdout",
     "output_type": "stream",
     "text": [
      "Populating the interactive namespace from numpy and matplotlib\n"
     ]
    }
   ],
   "source": [
    "%pylab inline\n",
    "import pandas as pd\n",
    "import kts\n",
    "from kts import *"
   ]
  },
  {
   "cell_type": "markdown",
   "metadata": {},
   "source": [
    "`kts.ls()` returns list of objects stored in user cache.  \n",
    "`kts.features` is a list of all registered feature constructors  \n",
    "`kts.features.define_in_scope()` makes them visible in current notebook"
   ]
  },
  {
   "cell_type": "markdown",
   "metadata": {},
   "source": [
    "## Data Loading"
   ]
  },
  {
   "cell_type": "code",
   "execution_count": 2,
   "metadata": {},
   "outputs": [
    {
     "data": {
      "text/plain": [
       "['train', 'test']"
      ]
     },
     "execution_count": 2,
     "metadata": {},
     "output_type": "execute_result"
    },
    {
     "data": {
      "text/plain": [
       "[family_size, family_size_encode, encode_age_and_sex, select_numeric]"
      ]
     },
     "execution_count": 2,
     "metadata": {},
     "output_type": "execute_result"
    }
   ],
   "source": [
    "kts.ls()\n",
    "features\n",
    "features.define_in_scope(globals())"
   ]
  },
  {
   "cell_type": "code",
   "execution_count": 3,
   "metadata": {},
   "outputs": [
    {
     "name": "stdout",
     "output_type": "stream",
     "text": [
      "CPU times: user 13.2 ms, sys: 4.36 ms, total: 17.6 ms\n",
      "Wall time: 18.1 ms\n"
     ]
    }
   ],
   "source": [
    "%%time\n",
    "train = kts.load('train')\n",
    "test = kts.load('test')"
   ]
  },
  {
   "cell_type": "markdown",
   "metadata": {},
   "source": [
    "## FeatureSet Section\n",
    "*I usually save all history of FeatureSet creation at one place. My default naming is `fs_i` for easy tracking. Don't create different FeatureSets with one name, as this may prevent you from clear understanding which one was used to conduct a certain experiment.*"
   ]
  },
  {
   "cell_type": "markdown",
   "metadata": {},
   "source": [
    "Now we can define our first `FeatureSet`. It is a container for trying out different combinations of created features. \n",
    "\n",
    "Some features are to be computed after splitting to avoid leaks. Such features can be specified with `fc_after` argument, whose name means \"FeatureConstructor which will be computed after split\". For example, target encoding should be done after split. In general, any function which behaves differently being called on train and on validation dataframe, should be passed to `fc_after`.\n",
    "\n",
    "Other functions can be precomputed for all the data, and should be passed to `fc_before`. \n",
    "\n",
    "`df_input` specifies a training dataframe, `target_column` meaning is obvious, and `description` argument is optional and may be used to take notes about current set of features.\n",
    "\n",
    "Signature:\n",
    "`FeatureSet(fc_before, fc_after, df_input, target_column, description)`"
   ]
  },
  {
   "cell_type": "code",
   "execution_count": 4,
   "metadata": {},
   "outputs": [],
   "source": [
    "fs_1 = FeatureSet(select_numeric,\n",
    "                  df_input=train,\n",
    "                  target_column='Survived',\n",
    "                  description='Baseline: original numeric features'\n",
    "                 )"
   ]
  },
  {
   "cell_type": "markdown",
   "metadata": {},
   "source": [
    "## Validation Section"
   ]
  },
  {
   "cell_type": "markdown",
   "metadata": {},
   "source": [
    "`Validator(sklearn_splitter, sklearn_metric)` is used to validate models on features."
   ]
  },
  {
   "cell_type": "code",
   "execution_count": 5,
   "metadata": {},
   "outputs": [],
   "source": [
    "from sklearn.model_selection import StratifiedKFold\n",
    "from sklearn.metrics import roc_auc_score\n",
    "\n",
    "skf = StratifiedKFold(5)\n",
    "val = Validator(skf, roc_auc_score)"
   ]
  },
  {
   "cell_type": "markdown",
   "metadata": {},
   "source": [
    "It's time to create our first model.   \n",
    "*`zoo.bc` is an alias of `zoo.binary_classification`*  \n",
    "`val.score(model, featureset, **kwargs_for_model_training)` validates the model using featureset and saves everything needed for reproducing the experiment."
   ]
  },
  {
   "cell_type": "code",
   "execution_count": 6,
   "metadata": {},
   "outputs": [
    {
     "data": {
      "text/html": [
       "ID: B1C44F<p> Score: 0.750426074371439<p>Total time: 00:58 <p>Validation of cb_default_x5-fs_1:"
      ],
      "text/plain": [
       "<IPython.core.display.HTML object>"
      ]
     },
     "metadata": {},
     "output_type": "display_data"
    },
    {
     "name": "stdout",
     "output_type": "stream",
     "text": [
      "Learning rate set to 0.075294\n",
      "0:\tlearn: 0.6745933\ttest: 0.6831137\tbest: 0.6831137 (0)\ttotal: 90.5ms\tremaining: 1m 30s\n",
      "500:\tlearn: 0.3880297\ttest: 0.6834484\tbest: 0.6439855 (11)\ttotal: 6.13s\tremaining: 6.11s\n",
      "999:\tlearn: 0.3484651\ttest: 0.7012846\tbest: 0.6439855 (11)\ttotal: 9.47s\tremaining: 0us\n",
      "\n",
      "bestTest = 0.6439855404\n",
      "bestIteration = 11\n",
      "\n",
      "Shrink model to first 12 iterations.\n",
      "Learning rate set to 0.075294\n",
      "0:\tlearn: 0.6778134\ttest: 0.6799557\tbest: 0.6799557 (0)\ttotal: 25.7ms\tremaining: 25.7s\n",
      "500:\tlearn: 0.3589846\ttest: 0.6762786\tbest: 0.5952019 (30)\ttotal: 3.92s\tremaining: 3.9s\n",
      "999:\tlearn: 0.3142669\ttest: 0.7347344\tbest: 0.5952019 (30)\ttotal: 11.2s\tremaining: 0us\n",
      "\n",
      "bestTest = 0.5952018535\n",
      "bestIteration = 30\n",
      "\n",
      "Shrink model to first 31 iterations.\n",
      "Learning rate set to 0.075305\n",
      "0:\tlearn: 0.6736918\ttest: 0.6737273\tbest: 0.6737273 (0)\ttotal: 44.2ms\tremaining: 44.1s\n",
      "500:\tlearn: 0.3814892\ttest: 0.5722896\tbest: 0.5573633 (59)\ttotal: 6.7s\tremaining: 6.67s\n",
      "999:\tlearn: 0.3354125\ttest: 0.5943439\tbest: 0.5573633 (59)\ttotal: 10.7s\tremaining: 0us\n",
      "\n",
      "bestTest = 0.5573633334\n",
      "bestIteration = 59\n",
      "\n",
      "Shrink model to first 60 iterations.\n",
      "Learning rate set to 0.075305\n",
      "0:\tlearn: 0.6745628\ttest: 0.6745567\tbest: 0.6745567 (0)\ttotal: 36.2ms\tremaining: 36.2s\n",
      "500:\tlearn: 0.3811979\ttest: 0.5664202\tbest: 0.5207388 (92)\ttotal: 4.36s\tremaining: 4.34s\n",
      "999:\tlearn: 0.3378024\ttest: 0.6269851\tbest: 0.5207388 (92)\ttotal: 11.1s\tremaining: 0us\n",
      "\n",
      "bestTest = 0.520738755\n",
      "bestIteration = 92\n",
      "\n",
      "Shrink model to first 93 iterations.\n",
      "Learning rate set to 0.075316\n",
      "0:\tlearn: 0.6794374\ttest: 0.6752698\tbest: 0.6752698 (0)\ttotal: 27.8ms\tremaining: 27.8s\n",
      "500:\tlearn: 0.3813124\ttest: 0.5355270\tbest: 0.5162633 (71)\ttotal: 8.37s\tremaining: 8.34s\n",
      "999:\tlearn: 0.3389097\ttest: 0.5586768\tbest: 0.5162633 (71)\ttotal: 13.6s\tremaining: 0us\n",
      "\n",
      "bestTest = 0.5162633285\n",
      "bestIteration = 71\n",
      "\n",
      "Shrink model to first 72 iterations.\n"
     ]
    },
    {
     "data": {
      "text/plain": [
       "0.750426074371439"
      ]
     },
     "execution_count": 6,
     "metadata": {},
     "output_type": "execute_result"
    }
   ],
   "source": [
    "cb = zoo.bc.CatBoostClassifier()\n",
    "val.score(cb, fs_1, description='baseline catboost on numeric features', verbose=500)"
   ]
  },
  {
   "cell_type": "markdown",
   "metadata": {},
   "source": [
    "After validation you get the score and ID of your model, `B1C44F` in this case. ID is used to access the experiment via `leaderboard`.  \n",
    "*`lb` is an alias of `leaderboard`*  \n",
    "Leaderboard saves your experiments sorted by score."
   ]
  },
  {
   "cell_type": "code",
   "execution_count": 11,
   "metadata": {},
   "outputs": [
    {
     "data": {
      "text/html": [
       "<style  type=\"text/css\" >\n",
       "</style>  \n",
       "<table id=\"T_de4587f0_91e1_11e9_8cb4_784f439116d6\" > \n",
       "<thead>    <tr> \n",
       "        <th class=\"blank level0\" ></th> \n",
       "        <th class=\"col_heading level0 col0\" >Score</th> \n",
       "        <th class=\"col_heading level0 col1\" >std</th> \n",
       "        <th class=\"col_heading level0 col2\" >Model</th> \n",
       "        <th class=\"col_heading level0 col3\" >FS</th> \n",
       "        <th class=\"col_heading level0 col4\" >Description</th> \n",
       "        <th class=\"col_heading level0 col5\" >FS description</th> \n",
       "        <th class=\"col_heading level0 col6\" >Model source</th> \n",
       "        <th class=\"col_heading level0 col7\" >FS source</th> \n",
       "        <th class=\"col_heading level0 col8\" >Splitter</th> \n",
       "    </tr>    <tr> \n",
       "        <th class=\"index_name level0\" >ID</th> \n",
       "        <th class=\"blank\" ></th> \n",
       "        <th class=\"blank\" ></th> \n",
       "        <th class=\"blank\" ></th> \n",
       "        <th class=\"blank\" ></th> \n",
       "        <th class=\"blank\" ></th> \n",
       "        <th class=\"blank\" ></th> \n",
       "        <th class=\"blank\" ></th> \n",
       "        <th class=\"blank\" ></th> \n",
       "        <th class=\"blank\" ></th> \n",
       "    </tr></thead> \n",
       "<tbody>    <tr> \n",
       "        <th id=\"T_de4587f0_91e1_11e9_8cb4_784f439116d6level0_row0\" class=\"row_heading level0 row0\" >B1C44F</th> \n",
       "        <td id=\"T_de4587f0_91e1_11e9_8cb4_784f439116d6row0_col0\" class=\"data row0 col0\" >0.750426</td> \n",
       "        <td id=\"T_de4587f0_91e1_11e9_8cb4_784f439116d6row0_col1\" class=\"data row0 col1\" >0.0642686</td> \n",
       "        <td id=\"T_de4587f0_91e1_11e9_8cb4_784f439116d6row0_col2\" class=\"data row0 col2\" >cb_default</td> \n",
       "        <td id=\"T_de4587f0_91e1_11e9_8cb4_784f439116d6row0_col3\" class=\"data row0 col3\" >fs_1</td> \n",
       "        <td id=\"T_de4587f0_91e1_11e9_8cb4_784f439116d6row0_col4\" class=\"data row0 col4\" >baseline catboost on numeric features</td> \n",
       "        <td id=\"T_de4587f0_91e1_11e9_8cb4_784f439116d6row0_col5\" class=\"data row0 col5\" >Baseline: original numeric features</td> \n",
       "        <td id=\"T_de4587f0_91e1_11e9_8cb4_784f439116d6row0_col6\" class=\"data row0 col6\" >CatBoostClassifier(loss_function='Logloss')</td> \n",
       "        <td id=\"T_de4587f0_91e1_11e9_8cb4_784f439116d6row0_col7\" class=\"data row0 col7\" >FeatureSet(fc_before=select_numeric,\n",
       "           fc_after=stl.empty_like,\n",
       "           target_column='Survived', group_column=None)</td> \n",
       "        <td id=\"T_de4587f0_91e1_11e9_8cb4_784f439116d6row0_col8\" class=\"data row0 col8\" >StratifiedKFold(n_splits=5, random_state=None, shuffle=False)</td> \n",
       "    </tr></tbody> \n",
       "</table> "
      ],
      "text/plain": [
       "<kts.validation.leaderboard.Leaderboard at 0x1285018d0>"
      ]
     },
     "execution_count": 11,
     "metadata": {},
     "output_type": "execute_result"
    }
   ],
   "source": [
    "lb"
   ]
  },
  {
   "cell_type": "markdown",
   "metadata": {},
   "source": [
    "An experiment saves your models, the featureset and other service info."
   ]
  },
  {
   "cell_type": "code",
   "execution_count": 12,
   "metadata": {},
   "outputs": [
    {
     "name": "stdout",
     "output_type": "stream",
     "text": [
      "<class 'kts.validation.experiment.Experiment'>\n"
     ]
    },
    {
     "data": {
      "text/plain": [
       "+----------------+-------------------------------------------------------------+\n",
       "| Score          | 0.7504261, std: 0.0642686 (roc_auc_score)                   |\n",
       "+----------------+-------------------------------------------------------------+\n",
       "| Identifier     | B1C44F                                                      |\n",
       "+----------------+-------------------------------------------------------------+\n",
       "| Description    | baseline catboost on numeric features                       |\n",
       "+----------------+-------------------------------------------------------------+\n",
       "| Model          | cb_default       x5                                         |\n",
       "+----------------+-------------------------------------------------------------+\n",
       "| |- source      | CatBoostClassifier(loss_function='Logloss')                 |\n",
       "+----------------+-------------------------------------------------------------+\n",
       "| FeatureSet     | fs_1                                                        |\n",
       "+----------------+-------------------------------------------------------------+\n",
       "| |- description | Baseline: original numeric features                         |\n",
       "+----------------+-------------------------------------------------------------+\n",
       "| |- source      | FeatureSet(fc_before=select_numeric,                        |\n",
       "|                |            fc_after=stl.empty_like,                         |\n",
       "|                |            target_column='Survived', group_column=None)     |\n",
       "+----------------+-------------------------------------------------------------+\n",
       "| Splitter       | StratifiedKFold(n_splits=5, random_state=None,              |\n",
       "|                | shuffle=False)                                              |\n",
       "+----------------+-------------------------------------------------------------+"
      ]
     },
     "execution_count": 12,
     "metadata": {},
     "output_type": "execute_result"
    }
   ],
   "source": [
    "print(type(lb['B1C44F']))\n",
    "lb['B1C44F']"
   ]
  },
  {
   "cell_type": "markdown",
   "metadata": {},
   "source": [
    "You can pass a dataframe with the same columns as training one to Experiment and get predictions for it. The features will be computed automatically."
   ]
  },
  {
   "cell_type": "code",
   "execution_count": 13,
   "metadata": {},
   "outputs": [
    {
     "data": {
      "text/plain": [
       "array([0.21662121, 0.10902314, 0.28929278, 0.23626603, 0.42023217,\n",
       "       0.2856266 , 0.22241966, 0.57427817, 0.25561417, 0.30584526,\n",
       "       0.25936094, 0.48227903, 0.73138137, 0.32574562, 0.62032488,\n",
       "       0.48164349, 0.41450895, 0.24610827, 0.25201219, 0.13940482,\n",
       "       0.61740209, 0.21152199, 0.53036166, 0.70874216, 0.68150581,\n",
       "       0.20895617, 0.71306049, 0.24514959, 0.53790262, 0.38279244,\n",
       "       0.41392976, 0.46490308, 0.3964912 , 0.48622277, 0.6740473 ,\n",
       "       0.25561417, 0.24908434, 0.22507589, 0.25864456, 0.48313229,\n",
       "       0.30884325, 0.51915326, 0.18595727, 0.40919981, 0.58223663,\n",
       "       0.23987025, 0.50929476, 0.30975755, 0.58722942, 0.39747644,\n",
       "       0.68235961, 0.41876449, 0.58886201, 0.71489795, 0.48517269,\n",
       "       0.14582299, 0.21027194, 0.25591826, 0.39867743, 0.7683757 ,\n",
       "       0.2524516 , 0.40992249, 0.2955441 , 0.26720616, 0.75667596,\n",
       "       0.52250778, 0.27686475, 0.4743575 , 0.56140917, 0.50507018,\n",
       "       0.27684216, 0.23553292, 0.24015098, 0.5542787 , 0.75760328,\n",
       "       0.75592198, 0.24908434, 0.48771662, 0.40919981, 0.27684216,\n",
       "       0.57655497, 0.59134582, 0.50747303, 0.25936094, 0.4334468 ,\n",
       "       0.35692374, 0.27120017, 0.23922705, 0.30975755, 0.76965822,\n",
       "       0.30583674, 0.29989399, 0.71287175, 0.24908434, 0.57635772,\n",
       "       0.26254217, 0.51269178, 0.24015098, 0.26295476, 0.21753418,\n",
       "       0.61504935, 0.48814537, 0.30975755, 0.2611828 , 0.32345419,\n",
       "       0.33594858, 0.26156881, 0.30975755, 0.25818712, 0.42792196,\n",
       "       0.38649381, 0.29989399, 0.56827216, 0.26051652, 0.70078934,\n",
       "       0.30514458, 0.16911068, 0.59071135, 0.68088135, 0.47566511,\n",
       "       0.51240311, 0.31858468, 0.68533506, 0.21837824, 0.30975755,\n",
       "       0.47745454, 0.26812678, 0.40300536, 0.38535347, 0.22960165,\n",
       "       0.22182864, 0.46193331, 0.35674424, 0.16892307, 0.17896757,\n",
       "       0.25687892, 0.22578431, 0.40925961, 0.22780796, 0.19177555,\n",
       "       0.082317  , 0.7643905 , 0.5879295 , 0.47005431, 0.53972143,\n",
       "       0.47855967, 0.55516044, 0.22780796, 0.51915326, 0.58463368,\n",
       "       0.74213426, 0.25936094, 0.09461925, 0.39029763, 0.16015246,\n",
       "       0.25629001, 0.73169546, 0.25832525, 0.53972143, 0.45324956,\n",
       "       0.30767363, 0.55747871, 0.40789836, 0.18238619, 0.38600256,\n",
       "       0.39003078, 0.51994143, 0.32569437, 0.51394753, 0.23669686,\n",
       "       0.28593169, 0.23106508, 0.30583674, 0.26500707, 0.20262887,\n",
       "       0.65365284, 0.4708116 , 0.58667538, 0.56092164, 0.46307793,\n",
       "       0.40919981, 0.73783787, 0.65449388, 0.30975755, 0.71098675,\n",
       "       0.43114446, 0.61383089, 0.24313736, 0.06193866, 0.39040096,\n",
       "       0.47712003, 0.52122068, 0.46560981, 0.29772055, 0.72938615,\n",
       "       0.22166355, 0.75802268, 0.28641178, 0.38972737, 0.24908434,\n",
       "       0.34670932, 0.54032022, 0.7631371 , 0.73724872, 0.39410194,\n",
       "       0.50946081, 0.20678548, 0.39228988, 0.56759535, 0.23572931,\n",
       "       0.34185978, 0.18876675, 0.48924742, 0.32758616, 0.49919964,\n",
       "       0.52516651, 0.28900547, 0.71196226, 0.71532355, 0.24908434,\n",
       "       0.4145317 , 0.22725532, 0.38972737, 0.26741136, 0.46155668,\n",
       "       0.503845  , 0.26812678, 0.30975755, 0.23713975, 0.39924149,\n",
       "       0.56706446, 0.58842374, 0.166841  , 0.28900547, 0.66408273,\n",
       "       0.26295476, 0.48253765, 0.25258267, 0.59069176, 0.73946969,\n",
       "       0.43834072, 0.50521206, 0.72464245, 0.2705685 , 0.48622277,\n",
       "       0.57493497, 0.46093232, 0.53800663, 0.47566511, 0.35692374,\n",
       "       0.75728104, 0.24450815, 0.72864456, 0.25023259, 0.24982185,\n",
       "       0.28593169, 0.30975755, 0.22956923, 0.42352233, 0.27518363,\n",
       "       0.27979414, 0.257579  , 0.63866014, 0.57985205, 0.41453042,\n",
       "       0.25936094, 0.0924282 , 0.28593169, 0.24908434, 0.24060738,\n",
       "       0.60217085, 0.30975755, 0.73014277, 0.3778431 , 0.26677466,\n",
       "       0.50777673, 0.39437454, 0.44221078, 0.46954206, 0.38972737,\n",
       "       0.22552919, 0.57424958, 0.30975755, 0.52873836, 0.58367312,\n",
       "       0.17596137, 0.26569245, 0.72848482, 0.26500707, 0.24908434,\n",
       "       0.51519346, 0.17197404, 0.26500707, 0.62021564, 0.2353397 ,\n",
       "       0.23840211, 0.75624149, 0.38279244, 0.56710242, 0.24240204,\n",
       "       0.2247785 , 0.46601927, 0.53954069, 0.22727336, 0.30975755,\n",
       "       0.34787897, 0.73983702, 0.4717116 , 0.65319598, 0.2272791 ,\n",
       "       0.23648345, 0.24514959, 0.28593169, 0.18553007, 0.73863476,\n",
       "       0.2983596 , 0.76013811, 0.40361152, 0.2623257 , 0.45628185,\n",
       "       0.2611828 , 0.23574236, 0.40925961, 0.58107794, 0.75934565,\n",
       "       0.19688681, 0.65181673, 0.62077302, 0.47566511, 0.40526419,\n",
       "       0.46112891, 0.54453889, 0.26677466, 0.43385248, 0.24426042,\n",
       "       0.57012714, 0.41129222, 0.2024849 , 0.47623174, 0.26500707,\n",
       "       0.4079606 , 0.20775155, 0.31150927, 0.68051434, 0.51268487,\n",
       "       0.28677522, 0.40925961, 0.15926854, 0.40613126, 0.46179837,\n",
       "       0.62915583, 0.39410194, 0.48527412, 0.54509824, 0.5466414 ,\n",
       "       0.48676536, 0.51766407, 0.28900547, 0.30975755, 0.30394911,\n",
       "       0.06764362, 0.58697202, 0.46179837, 0.23626603, 0.66428543,\n",
       "       0.31150927, 0.35458541, 0.32417492, 0.63112487, 0.40472093,\n",
       "       0.42286833, 0.75755585, 0.11174597, 0.37273348, 0.61609357,\n",
       "       0.75465326, 0.21568282, 0.4041388 , 0.46470862, 0.17088274,\n",
       "       0.30975755, 0.26380764, 0.32765483, 0.33351376, 0.47173059,\n",
       "       0.63989896, 0.27436255, 0.31175569, 0.28398864, 0.20740761,\n",
       "       0.73404063, 0.53688204, 0.53020476, 0.32833354, 0.29980514,\n",
       "       0.68846592, 0.24131609, 0.62300133, 0.27591962, 0.22504701,\n",
       "       0.74315335, 0.44030101, 0.71487833, 0.58432994, 0.51731547,\n",
       "       0.41861751, 0.40827797, 0.71532355, 0.29430521, 0.57556602,\n",
       "       0.30975755, 0.74685927, 0.25314431, 0.24908434, 0.74989229,\n",
       "       0.15967268, 0.24908434, 0.52719943])"
      ]
     },
     "execution_count": 13,
     "metadata": {},
     "output_type": "execute_result"
    }
   ],
   "source": [
    "lb['B1C44F'].predict(test)"
   ]
  },
  {
   "cell_type": "code",
   "execution_count": 14,
   "metadata": {},
   "outputs": [],
   "source": [
    "exp = lb['B1C44F']"
   ]
  },
  {
   "cell_type": "markdown",
   "metadata": {},
   "source": [
    "You can visualize feature importances:  \n",
    "*Each bar line consists of three sectors divided by color intensity. The lightest is maximum importance among all folds, second is mean, and the least one is std.*"
   ]
  },
  {
   "cell_type": "code",
   "execution_count": 22,
   "metadata": {},
   "outputs": [
    {
     "data": {
      "text/html": [
       "\n",
       "    <div>\n",
       "        <style>\n",
       "            /* Turns off some styling */\n",
       "            progress {\n",
       "                /* gets rid of default border in Firefox and Opera. */\n",
       "                border: none;\n",
       "                /* Needs to be in here for Safari polyfill so background images work as expected. */\n",
       "                background-size: auto;\n",
       "            }\n",
       "            .progress-bar-interrupted, .progress-bar-interrupted::-webkit-progress-bar {\n",
       "                background: #F44336;\n",
       "            }\n",
       "        </style>\n",
       "      <progress value='5' class='' max='5', style='width:300px; height:20px; vertical-align: middle;'></progress>\n",
       "      100.00% [5/5 00:00<00:00]\n",
       "    </div>\n",
       "    "
      ],
      "text/plain": [
       "<IPython.core.display.HTML object>"
      ]
     },
     "metadata": {},
     "output_type": "display_data"
    },
    {
     "data": {
      "text/plain": [
       "<matplotlib.axes._subplots.AxesSubplot at 0x12c44c8d0>"
      ]
     },
     "execution_count": 22,
     "metadata": {},
     "output_type": "execute_result"
    },
    {
     "data": {
      "image/png": "[encoded data removed]",
      "text/plain": [
       "<matplotlib.figure.Figure at 0x123772d68>"
      ]
     },
     "metadata": {
      "image/png": {
       "height": 322,
       "width": 522
      }
     },
     "output_type": "display_data"
    }
   ],
   "source": [
    "exp.feature_importances(plot=True)\n",
    "# std:mean:max"
   ]
  },
  {
   "cell_type": "markdown",
   "metadata": {},
   "source": [
    "If you have `eli5` preinstalled, you may want to compute permutation importances instead of builtin importances computed automatically by CatBoost:"
   ]
  },
  {
   "cell_type": "code",
   "execution_count": 16,
   "metadata": {},
   "outputs": [],
   "source": [
    "# Experiment doesn't store a training dataframe inside, so you should set it to compute permutation importances on val folds:\n",
    "exp.set_df(train)"
   ]
  },
  {
   "cell_type": "code",
   "execution_count": 24,
   "metadata": {},
   "outputs": [
    {
     "data": {
      "text/html": [
       "\n",
       "    <div>\n",
       "        <style>\n",
       "            /* Turns off some styling */\n",
       "            progress {\n",
       "                /* gets rid of default border in Firefox and Opera. */\n",
       "                border: none;\n",
       "                /* Needs to be in here for Safari polyfill so background images work as expected. */\n",
       "                background-size: auto;\n",
       "            }\n",
       "            .progress-bar-interrupted, .progress-bar-interrupted::-webkit-progress-bar {\n",
       "                background: #F44336;\n",
       "            }\n",
       "        </style>\n",
       "      <progress value='5' class='' max='5', style='width:300px; height:20px; vertical-align: middle;'></progress>\n",
       "      100.00% [5/5 00:00<00:00]\n",
       "    </div>\n",
       "    "
      ],
      "text/plain": [
       "<IPython.core.display.HTML object>"
      ]
     },
     "metadata": {},
     "output_type": "display_data"
    },
    {
     "data": {
      "text/plain": [
       "<matplotlib.axes._subplots.AxesSubplot at 0x12c8dcba8>"
      ]
     },
     "execution_count": 24,
     "metadata": {},
     "output_type": "execute_result"
    },
    {
     "data": {
      "image/png": "[encoded data removed]",
      "text/plain": [
       "<matplotlib.figure.Figure at 0x12c919f98>"
      ]
     },
     "metadata": {
      "image/png": {
       "height": 322,
       "width": 522
      }
     },
     "output_type": "display_data"
    }
   ],
   "source": [
    "exp.feature_importances(plot=True, importance_calculator=kts.selection.PermutationImportance())"
   ]
  },
  {
   "cell_type": "markdown",
   "metadata": {},
   "source": [
    "It was only one iteration. During a real competition FeatureSet Section consists of 20-50 featuresets, and Validation Section is changed continuously, as there's no reason to save model initialization and `val.score()` lines, as it is all stored in Experiment."
   ]
  },
  {
   "cell_type": "markdown",
   "metadata": {},
   "source": [
    "Now you can proceed to `ModelingFull.ipynb` where I omit details from current notebook and show a workflow more similar to real one."
   ]
  },
  {
   "cell_type": "code",
   "execution_count": null,
   "metadata": {},
   "outputs": [],
   "source": []
  }
 ],
 "metadata": {
  "kernelspec": {
   "display_name": "Python 3",
   "language": "python",
   "name": "python3"
  },
  "language_info": {
   "codemirror_mode": {
    "name": "ipython",
    "version": 3
   },
   "file_extension": ".py",
   "mimetype": "text/x-python",
   "name": "python",
   "nbconvert_exporter": "python",
   "pygments_lexer": "ipython3",
   "version": "3.6.1"
  }
 },
 "nbformat": 4,
 "nbformat_minor": 2
}
